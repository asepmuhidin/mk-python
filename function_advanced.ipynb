{
  "nbformat": 4,
  "nbformat_minor": 0,
  "metadata": {
    "colab": {
      "name": "function_advanced.ipynb",
      "provenance": [],
      "authorship_tag": "ABX9TyPpN5YEIRRevEIJuZr3VXE5",
      "include_colab_link": true
    },
    "kernelspec": {
      "name": "python3",
      "display_name": "Python 3"
    },
    "language_info": {
      "name": "python"
    }
  },
  "cells": [
    {
      "cell_type": "markdown",
      "metadata": {
        "id": "view-in-github",
        "colab_type": "text"
      },
      "source": [
        "<a href=\"https://colab.research.google.com/github/asepmuhidin/mk-python/blob/master/function_advanced.ipynb\" target=\"_parent\"><img src=\"https://colab.research.google.com/assets/colab-badge.svg\" alt=\"Open In Colab\"/></a>"
      ]
    },
    {
      "cell_type": "code",
      "metadata": {
        "id": "g5Ccx33pmDBz"
      },
      "source": [
        "def say_hello(msg=\"Hello\"):\n",
        "  print(msg)"
      ],
      "execution_count": 14,
      "outputs": []
    },
    {
      "cell_type": "code",
      "metadata": {
        "colab": {
          "base_uri": "https://localhost:8080/"
        },
        "id": "ewdBbJekmowP",
        "outputId": "c91d8cb9-86d9-4a75-9b66-92b91ce0b5f4"
      },
      "source": [
        "say_hello(\"Selamat pagi\")"
      ],
      "execution_count": 16,
      "outputs": [
        {
          "output_type": "stream",
          "name": "stdout",
          "text": [
            "Selamat pagi\n"
          ]
        }
      ]
    },
    {
      "cell_type": "code",
      "metadata": {
        "id": "ubhg_pt5mxrC"
      },
      "source": [
        "def say(msg=\"\"):\n",
        "  return msg"
      ],
      "execution_count": 17,
      "outputs": []
    },
    {
      "cell_type": "code",
      "metadata": {
        "colab": {
          "base_uri": "https://localhost:8080/"
        },
        "id": "taDKzOJ2m7V7",
        "outputId": "e54d5ad8-d628-4ca6-a163-443e6539bb1d"
      },
      "source": [
        "print(say(\"Selamat pagi\"))"
      ],
      "execution_count": 19,
      "outputs": [
        {
          "output_type": "stream",
          "name": "stdout",
          "text": [
            "Selamat pagi\n"
          ]
        }
      ]
    },
    {
      "cell_type": "code",
      "metadata": {
        "id": "sjMUJafpobMB"
      },
      "source": [
        "def luasLingkaran(jariJari,phi=3.14):\n",
        "  return phi*jariJari**2 "
      ],
      "execution_count": 22,
      "outputs": []
    },
    {
      "cell_type": "code",
      "metadata": {
        "id": "BBw2D7VapnQk"
      },
      "source": [
        "import math\n",
        "def luasLingkaran1(jariJari):\n",
        "  return math.pi*jariJari**2 "
      ],
      "execution_count": 43,
      "outputs": []
    },
    {
      "cell_type": "code",
      "metadata": {
        "colab": {
          "base_uri": "https://localhost:8080/"
        },
        "id": "TavjTqXTo-vA",
        "outputId": "b00391e0-0e54-45b9-af61-27f1fa5988a8"
      },
      "source": [
        "r=int(input(\"Masukan nilai jar-jari ?\"))\n",
        "LL=luasLingkaran1(r)\n",
        "print(LL)"
      ],
      "execution_count": 44,
      "outputs": [
        {
          "output_type": "stream",
          "name": "stdout",
          "text": [
            "Masukan nilai jar-jari ?15\n",
            "706.8583470577034\n"
          ]
        }
      ]
    },
    {
      "cell_type": "code",
      "metadata": {
        "colab": {
          "base_uri": "https://localhost:8080/"
        },
        "id": "PHlA5JGfp-RE",
        "outputId": "76779d97-af83-4656-ff5f-8090049ed531"
      },
      "source": [
        "nilai=[70,80,90,85,95,70]\n",
        "totalNilai=sum(nilai)\n",
        "jumlahData=len(nilai)\n",
        "print(min(nilai))"
      ],
      "execution_count": 54,
      "outputs": [
        {
          "output_type": "stream",
          "name": "stdout",
          "text": [
            "70\n"
          ]
        }
      ]
    },
    {
      "cell_type": "code",
      "metadata": {
        "id": "nlIIIV9ys0jl"
      },
      "source": [
        "def AvgNilai(data):\n",
        "  return sum(data)/len(data)\n"
      ],
      "execution_count": 49,
      "outputs": []
    },
    {
      "cell_type": "code",
      "metadata": {
        "colab": {
          "base_uri": "https://localhost:8080/"
        },
        "id": "0T1k1oR_t7Kb",
        "outputId": "6d420d89-db65-4073-c0d3-25e1cb04931c"
      },
      "source": [
        "avgOfNilai=AvgNilai(nilai)\n",
        "print(avgOfNilai)"
      ],
      "execution_count": 50,
      "outputs": [
        {
          "output_type": "stream",
          "name": "stdout",
          "text": [
            "81.66666666666667\n"
          ]
        }
      ]
    },
    {
      "cell_type": "code",
      "metadata": {
        "colab": {
          "base_uri": "https://localhost:8080/"
        },
        "id": "ZDADuMzZuLv9",
        "outputId": "7e27614f-fc2c-42ac-9696-9aa7468aa83c"
      },
      "source": [
        "print(AvgNilai([2,3,4,5,6,7]))"
      ],
      "execution_count": 52,
      "outputs": [
        {
          "output_type": "stream",
          "name": "stdout",
          "text": [
            "4.5\n"
          ]
        }
      ]
    },
    {
      "cell_type": "code",
      "metadata": {
        "colab": {
          "base_uri": "https://localhost:8080/"
        },
        "id": "RltSqWxgyDrz",
        "outputId": "a56cc421-92f8-445a-f565-e6f2319cf47e"
      },
      "source": [
        "a=\"1001\"\n",
        "for idx,i in enumerate(a):\n",
        "  print(idx,i)"
      ],
      "execution_count": 57,
      "outputs": [
        {
          "output_type": "stream",
          "name": "stdout",
          "text": [
            "0 1\n",
            "1 0\n",
            "2 0\n",
            "3 1\n"
          ]
        }
      ]
    },
    {
      "cell_type": "code",
      "metadata": {
        "id": "6ZzSsvRmvFF-"
      },
      "source": [
        "def binToDecimal(binNumber):\n",
        "  x=[8,4,2,1]\n",
        "  des=0\n",
        "  for idx,i in enumerate(binNumber):\n",
        "    if i==\"1\" :\n",
        "      des +=x[idx]\n",
        "  return des\n",
        "\n"
      ],
      "execution_count": 58,
      "outputs": []
    },
    {
      "cell_type": "code",
      "metadata": {
        "colab": {
          "base_uri": "https://localhost:8080/"
        },
        "id": "KVpkkRWiyiLv",
        "outputId": "afca6f33-ee03-4306-9dc4-0a33342296f5"
      },
      "source": [
        "biner=input(\"Masukan bilangan biner ?\")\n",
        "desimal=binToDecimal(biner)\n",
        "print(f\"Maka nilai desimalnya adalah {desimal}\")"
      ],
      "execution_count": 61,
      "outputs": [
        {
          "output_type": "stream",
          "name": "stdout",
          "text": [
            "Masukan bilangan biner ?1011\n",
            "Maka nilai desimalnya adalah 11\n"
          ]
        }
      ]
    }
  ]
}
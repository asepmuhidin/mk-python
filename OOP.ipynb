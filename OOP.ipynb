{
  "nbformat": 4,
  "nbformat_minor": 0,
  "metadata": {
    "colab": {
      "name": "OOP.ipynb",
      "provenance": [],
      "authorship_tag": "ABX9TyOwQBc7rO+lpwHwq82Y4H2v",
      "include_colab_link": true
    },
    "kernelspec": {
      "name": "python3",
      "display_name": "Python 3"
    },
    "language_info": {
      "name": "python"
    }
  },
  "cells": [
    {
      "cell_type": "markdown",
      "metadata": {
        "id": "view-in-github",
        "colab_type": "text"
      },
      "source": [
        "<a href=\"https://colab.research.google.com/github/asepmuhidin/mk-python/blob/master/OOP.ipynb\" target=\"_parent\"><img src=\"https://colab.research.google.com/assets/colab-badge.svg\" alt=\"Open In Colab\"/></a>"
      ]
    },
    {
      "cell_type": "code",
      "metadata": {
        "id": "ysz4T0mXtmv9"
      },
      "source": [
        "'''\n",
        "Membuat kelas employee dengan attribute name dan salary\n",
        "'''\n",
        "class Employee:\n",
        "  empCount=0\n",
        "\n",
        "  def __init__(self,name,salary=4700000):\n",
        "    self.name=name\n",
        "    self.salary=salary\n",
        "    Employee.empCount +=1\n",
        "\n",
        "  def displayCount(self):\n",
        "    print(f\"Jumlah karyawan adalah {Employee.empCount}\")  \n",
        "\n",
        "  def displayEmployee(self):\n",
        "    print(f\"Nama karyawan adalah {self.name}\")  \n",
        "\n",
        "  def salaryAfterPPH(self):\n",
        "    return self.salary-(self.salary*0.1)  "
      ],
      "execution_count": 68,
      "outputs": []
    },
    {
      "cell_type": "code",
      "metadata": {
        "id": "0fjpHSXDufDm"
      },
      "source": [
        "#Menciptakan objek dari kelas employee dengan nama objek emp1\n",
        "emp1=Employee(\"Riki Supriyatna\",5100000)"
      ],
      "execution_count": 69,
      "outputs": []
    },
    {
      "cell_type": "code",
      "metadata": {
        "colab": {
          "base_uri": "https://localhost:8080/"
        },
        "id": "vyaBrtL_u5DY",
        "outputId": "18e39be3-f058-41fd-ff82-8336e2006136"
      },
      "source": [
        "#Mengakses attribute name dari objek emp1\n",
        "print(f\"Nama karyawan ke-1 adalah {emp1.name}\")"
      ],
      "execution_count": 70,
      "outputs": [
        {
          "output_type": "stream",
          "name": "stdout",
          "text": [
            "Nama karyawan ke-1 adalah Riki Supriyatna\n"
          ]
        }
      ]
    },
    {
      "cell_type": "code",
      "metadata": {
        "colab": {
          "base_uri": "https://localhost:8080/"
        },
        "id": "_LxjQwt2vLUq",
        "outputId": "20ad3699-cbe5-44a0-e4d1-c3e50b8b656d"
      },
      "source": [
        "#Mengakses attribute salary dan name dari objek emp1\n",
        "print(f\"Nama karyawan ke-1 adalah {emp1.name} dengan salary {emp1.salary:,}\")"
      ],
      "execution_count": 71,
      "outputs": [
        {
          "output_type": "stream",
          "name": "stdout",
          "text": [
            "Nama karyawan ke-1 adalah Riki Supriyatna dengan salary 5,100,000\n"
          ]
        }
      ]
    },
    {
      "cell_type": "code",
      "metadata": {
        "id": "UYSnh2k2wb79"
      },
      "source": [
        "emp2=Employee(\"Anita Novianti\",6500000)"
      ],
      "execution_count": 72,
      "outputs": []
    },
    {
      "cell_type": "code",
      "metadata": {
        "colab": {
          "base_uri": "https://localhost:8080/"
        },
        "id": "xsQzscBJwKZW",
        "outputId": "0d53b1d4-4373-4b0f-fab3-cd30b1eedf44"
      },
      "source": [
        "#Mengakses variabel empCount kelas employee \n",
        "print(f\"Jumlah karyawan adalah {Employee.empCount}\")"
      ],
      "execution_count": 73,
      "outputs": [
        {
          "output_type": "stream",
          "name": "stdout",
          "text": [
            "Jumlah karyawan adalah 2\n"
          ]
        }
      ]
    },
    {
      "cell_type": "code",
      "metadata": {
        "id": "ZI2TVvXKxIJk"
      },
      "source": [
        "emp3=Employee(\"Ridwan Hidayat\")"
      ],
      "execution_count": 74,
      "outputs": []
    },
    {
      "cell_type": "code",
      "metadata": {
        "colab": {
          "base_uri": "https://localhost:8080/"
        },
        "id": "eZjexhf6x2JE",
        "outputId": "e1a40457-2349-4424-e9bf-d8d606839e4b"
      },
      "source": [
        "#Mengakses attribute salary dan name dari objek emp3\n",
        "print(f\"Nama karyawan ke-1 adalah {emp3.name} dengan salary {emp3.salary:,}\")"
      ],
      "execution_count": 75,
      "outputs": [
        {
          "output_type": "stream",
          "name": "stdout",
          "text": [
            "Nama karyawan ke-1 adalah Ridwan Hidayat dengan salary 4,700,000\n"
          ]
        }
      ]
    },
    {
      "cell_type": "code",
      "metadata": {
        "colab": {
          "base_uri": "https://localhost:8080/"
        },
        "id": "bTOOGxElyMtx",
        "outputId": "0b14bc74-2c80-4f0d-e4db-ec831862e275"
      },
      "source": [
        "#Mengakses attribute salary dan name dari objek emp2\n",
        "print(f\"Nama karyawan ke-1 adalah {emp2.name} dengan salary {emp2.salary:,}\")"
      ],
      "execution_count": 76,
      "outputs": [
        {
          "output_type": "stream",
          "name": "stdout",
          "text": [
            "Nama karyawan ke-1 adalah Anita Novianti dengan salary 6,500,000\n"
          ]
        }
      ]
    },
    {
      "cell_type": "code",
      "metadata": {
        "id": "U4MM3poKycg3"
      },
      "source": [
        "#Mengupdate nilai atribut dari sebuah objek emp3\n",
        "emp3.salary=7000000 "
      ],
      "execution_count": 77,
      "outputs": []
    },
    {
      "cell_type": "code",
      "metadata": {
        "colab": {
          "base_uri": "https://localhost:8080/"
        },
        "id": "OsUoXz6myyfl",
        "outputId": "c4f2d9fb-e252-496b-f76f-6277ebad52ae"
      },
      "source": [
        "#Mengakses attribute salary dan name dari objek emp3\n",
        "print(f\"Nama karyawan ke-1 adalah {emp3.name} dengan salary {emp3.salary:,}\")"
      ],
      "execution_count": 78,
      "outputs": [
        {
          "output_type": "stream",
          "name": "stdout",
          "text": [
            "Nama karyawan ke-1 adalah Ridwan Hidayat dengan salary 7,000,000\n"
          ]
        }
      ]
    },
    {
      "cell_type": "code",
      "metadata": {
        "colab": {
          "base_uri": "https://localhost:8080/"
        },
        "id": "_TXG5yPHzbEI",
        "outputId": "ae40d23a-f2c2-45e4-a523-62ff5ee5a2de"
      },
      "source": [
        "#Mengakses method displayCount\n",
        "emp3.displayCount()"
      ],
      "execution_count": 79,
      "outputs": [
        {
          "output_type": "stream",
          "name": "stdout",
          "text": [
            "Jumlah karyawan adalah 3\n"
          ]
        }
      ]
    },
    {
      "cell_type": "code",
      "metadata": {
        "colab": {
          "base_uri": "https://localhost:8080/"
        },
        "id": "jdWjsIii0nLR",
        "outputId": "9ec2228c-4579-42e2-faf8-0dfe9ae71248"
      },
      "source": [
        "#Mengakses method displayEmployee\n",
        "emp1.displayEmployee()\n",
        "emp2.displayEmployee()\n",
        "emp3.displayEmployee()\n"
      ],
      "execution_count": 80,
      "outputs": [
        {
          "output_type": "stream",
          "name": "stdout",
          "text": [
            "Nama karyawan adalah Riki Supriyatna\n",
            "Nama karyawan adalah Anita Novianti\n",
            "Nama karyawan adalah Ridwan Hidayat\n"
          ]
        }
      ]
    },
    {
      "cell_type": "code",
      "metadata": {
        "colab": {
          "base_uri": "https://localhost:8080/"
        },
        "id": "uvG5CsY51vIG",
        "outputId": "672cb4ba-9de7-4b98-b035-33910830015a"
      },
      "source": [
        "print(f\"Gaji pokok adalah {emp1.salary:,}, setelah dipotong PPH menjadi {emp1.salaryAfterPPH():,}\")"
      ],
      "execution_count": 82,
      "outputs": [
        {
          "output_type": "stream",
          "name": "stdout",
          "text": [
            "Gaji pokok adalah 5,100,000, setelah dipotong PPH menjadi 4,590,000.0\n"
          ]
        }
      ]
    }
  ]
}
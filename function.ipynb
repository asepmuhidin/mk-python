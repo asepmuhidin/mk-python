{
  "nbformat": 4,
  "nbformat_minor": 0,
  "metadata": {
    "colab": {
      "name": "function.ipynb",
      "provenance": [],
      "authorship_tag": "ABX9TyP7swkN7572fyCz7K3HtvR0",
      "include_colab_link": true
    },
    "kernelspec": {
      "name": "python3",
      "display_name": "Python 3"
    }
  },
  "cells": [
    {
      "cell_type": "markdown",
      "metadata": {
        "id": "view-in-github",
        "colab_type": "text"
      },
      "source": [
        "<a href=\"https://colab.research.google.com/github/asepmuhidin/mk-python/blob/master/function.ipynb\" target=\"_parent\"><img src=\"https://colab.research.google.com/assets/colab-badge.svg\" alt=\"Open In Colab\"/></a>"
      ]
    },
    {
      "cell_type": "markdown",
      "metadata": {
        "id": "YULxd-EHpWsZ"
      },
      "source": [
        "Prosedur : adalah fungsi yang tidak mengembalikan nilai <br>\n",
        "Function : adalah fungsi yang mengembalikan nilai\n",
        "\n",
        "Untuk mendefinisikan/membuat fungsi di python sbb :\n",
        "\n",
        "def funct_name(param1,param2,..): <br>\n",
        "   stat_function <br>\n",
        "   return value <br>"
      ]
    },
    {
      "cell_type": "code",
      "metadata": {
        "id": "0sXXIfEbpVjk"
      },
      "source": [
        "def hello():\n",
        "  print(\"hello\")"
      ],
      "execution_count": 1,
      "outputs": []
    },
    {
      "cell_type": "code",
      "metadata": {
        "id": "rAiioPppqiVx"
      },
      "source": [
        "def hello1():\n",
        "  return \"hello\""
      ],
      "execution_count": 4,
      "outputs": []
    },
    {
      "cell_type": "code",
      "metadata": {
        "id": "TSpdXZMOq9DQ"
      },
      "source": [
        "def penjumlahan(a,b):\n",
        "  return a+b"
      ],
      "execution_count": 7,
      "outputs": []
    },
    {
      "cell_type": "code",
      "metadata": {
        "id": "6c3Y3olCqWdX"
      },
      "source": [
        "hello()\n",
        "print(hello1())\n",
        "hasil=penjumlahan(3,7)\n",
        "print(hasil)\n",
        "print(\"89 + 12 = {}\". format(penjumlahan(89,12)))"
      ],
      "execution_count": null,
      "outputs": []
    },
    {
      "cell_type": "markdown",
      "metadata": {
        "id": "quCEZFpXr2rc"
      },
      "source": [
        "5!=1x2x3x4x5=120\n"
      ]
    },
    {
      "cell_type": "code",
      "metadata": {
        "id": "iz5KwRkTsAaX"
      },
      "source": [
        "def faktorial(n):\n",
        "  hasil=1\n",
        "  for i in range(1,n+1):\n",
        "    hasil *=i\n",
        "  return hasil  "
      ],
      "execution_count": 22,
      "outputs": []
    },
    {
      "cell_type": "code",
      "metadata": {
        "colab": {
          "base_uri": "https://localhost:8080/"
        },
        "id": "bnDi4hWXskx1",
        "outputId": "58964b7c-8537-4128-9230-89c97640eacd"
      },
      "source": [
        "print(\"5!={}\". format(faktorial(5))) "
      ],
      "execution_count": 11,
      "outputs": [
        {
          "output_type": "stream",
          "text": [
            "5!=120\n"
          ],
          "name": "stdout"
        }
      ]
    },
    {
      "cell_type": "code",
      "metadata": {
        "id": "7u6GtFOys4Sm"
      },
      "source": [
        "for n in range(5,11):\n",
        "  print(\"{}!={:0,.0f}\".format(n,faktorial(n)))"
      ],
      "execution_count": null,
      "outputs": []
    },
    {
      "cell_type": "code",
      "metadata": {
        "id": "X6RwssP4yj1n"
      },
      "source": [
        "import math\n",
        "\n",
        "def x12(a,b,c):\n",
        "  d=b**2 - (4*a*c)\n",
        "  x1=(-b+math.sqrt(d))/(2*a)\n",
        "  x2=(-b-math.sqrt(d))/(2*a)\n",
        "  return (x1,x2)"
      ],
      "execution_count": 41,
      "outputs": []
    },
    {
      "cell_type": "code",
      "metadata": {
        "id": "qoR_rKS1zRWp"
      },
      "source": [
        "x1,x2=x12(1,6,9)\n",
        "print('x1={}, x2={}'. format(x1,x2))"
      ],
      "execution_count": null,
      "outputs": []
    },
    {
      "cell_type": "code",
      "metadata": {
        "id": "Cji34lAOzVFk"
      },
      "source": [
        "#Buat fungsi menyeleksi bilangan positif, negatif atau nol\n",
        "def cekbilangan(bil):\n",
        "  if n == 0:\n",
        "    return \"Adalah 0\"\n",
        "  elif n > 0:\n",
        "    return \" Adalah Bilangan Positif\"\n",
        "  else:\n",
        "    return \" Adalah Bilangan Negatif\"\n"
      ],
      "execution_count": 45,
      "outputs": []
    },
    {
      "cell_type": "code",
      "metadata": {
        "id": "SBNg4rgF4FQb"
      },
      "source": [
        "n = int(input('Masukan Angka :'))\n",
        "\n",
        "print(\"{} {}\".format(n, cekbilangan(n)))"
      ],
      "execution_count": null,
      "outputs": []
    }
  ]
}
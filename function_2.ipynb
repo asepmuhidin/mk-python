{
  "nbformat": 4,
  "nbformat_minor": 0,
  "metadata": {
    "colab": {
      "name": "function_2.ipynb",
      "provenance": [],
      "authorship_tag": "ABX9TyOenXr95OJCHY1WDBh3SwTM",
      "include_colab_link": true
    },
    "kernelspec": {
      "name": "python3",
      "display_name": "Python 3"
    }
  },
  "cells": [
    {
      "cell_type": "markdown",
      "metadata": {
        "id": "view-in-github",
        "colab_type": "text"
      },
      "source": [
        "<a href=\"https://colab.research.google.com/github/asepmuhidin/mk-python/blob/master/function_2.ipynb\" target=\"_parent\"><img src=\"https://colab.research.google.com/assets/colab-badge.svg\" alt=\"Open In Colab\"/></a>"
      ]
    },
    {
      "cell_type": "code",
      "metadata": {
        "id": "hADamU9_xaL9"
      },
      "source": [
        ""
      ],
      "execution_count": null,
      "outputs": []
    },
    {
      "cell_type": "code",
      "metadata": {
        "id": "P9XP8FHhvF7l"
      },
      "source": [
        "import math\n"
      ],
      "execution_count": 9,
      "outputs": []
    },
    {
      "cell_type": "code",
      "metadata": {
        "id": "eez85Gq3ytka"
      },
      "source": [
        "##Luas persegi panjang\n",
        "## LPP=PxL\n",
        "def luas_PP(panjang,lebar):\n",
        "  return panjang*lebar "
      ],
      "execution_count": null,
      "outputs": []
    },
    {
      "cell_type": "code",
      "metadata": {
        "colab": {
          "base_uri": "https://localhost:8080/"
        },
        "id": "lL7nK0cX0LoB",
        "outputId": "fadffbb8-0ec9-4fed-cdf9-33e2253b32c5"
      },
      "source": [
        "a=3\n",
        "b=4 \n",
        "d=a**b if (a**2>=b) else b**a\n",
        "print(d)"
      ],
      "execution_count": 18,
      "outputs": [
        {
          "output_type": "stream",
          "text": [
            "81\n"
          ],
          "name": "stdout"
        }
      ]
    },
    {
      "cell_type": "code",
      "metadata": {
        "id": "99MEd1BctMmR"
      },
      "source": [
        "##LL=pi*r*r\n",
        "\n",
        "def luas_lingkaran(r):\n",
        "  return phi*B**2"
      ],
      "execution_count": 11,
      "outputs": []
    },
    {
      "cell_type": "code",
      "metadata": {
        "id": "B468hW_utSor"
      },
      "source": [
        "def keliling_lingkaran(r):\n",
        "  return 2*math.pi*r"
      ],
      "execution_count": 5,
      "outputs": []
    },
    {
      "cell_type": "code",
      "metadata": {
        "colab": {
          "base_uri": "https://localhost:8080/"
        },
        "id": "7HmUSG-UuQAJ",
        "outputId": "dfa68dcb-d0ed-4a62-f9d9-c565da5c3821"
      },
      "source": [
        "r = float(input(\"Masukkan panjang jari-jari lingkaran: \"))\n",
        "luas = luas_lingkaran(r)\n",
        "print(\"Luas lingkaran adalah : {:.2f}\".format(luas))"
      ],
      "execution_count": 12,
      "outputs": [
        {
          "output_type": "stream",
          "text": [
            "Masukkan panjang jari-jari lingkaran: 10\n",
            "Luas lingkaran adalah : 314.00\n"
          ],
          "name": "stdout"
        }
      ]
    },
    {
      "cell_type": "code",
      "metadata": {
        "colab": {
          "base_uri": "https://localhost:8080/"
        },
        "id": "fHjlo9dIubrD",
        "outputId": "86a2f0cf-0ac6-47a7-ecfb-e3eaece871a2"
      },
      "source": [
        "r = float(input(\"Masukkan panjang jari-jari lingkaran: \"))\n",
        "keliling = keliling_lingkaran(r)\n",
        "print(\"Keliling lingkaran adalah : {:.2f}\". format(keliling))"
      ],
      "execution_count": 7,
      "outputs": [
        {
          "output_type": "stream",
          "text": [
            "Masukkan panjang jari-jari lingkaran: 100\n",
            "Keliling lingkaran adalah : 628.32\n"
          ],
          "name": "stdout"
        }
      ]
    },
    {
      "cell_type": "code",
      "metadata": {
        "id": "1jmfbmfV2rg6"
      },
      "source": [
        "#avg=jumlah_data/jumlah_elemen_data\n",
        "#a=[2,3,4]===> jumlah_data=2+3+4=7\n",
        "def avglist(x):\n",
        "  return sum(x)/len(x)"
      ],
      "execution_count": 29,
      "outputs": []
    },
    {
      "cell_type": "code",
      "metadata": {
        "colab": {
          "base_uri": "https://localhost:8080/"
        },
        "id": "Z3nTqBrm11ET",
        "outputId": "1e7d8d26-f40b-4830-a3f5-87d82fa03545"
      },
      "source": [
        "nilai=[40,60,80,45,67,89,12,34]\n",
        "print(avglist(nilai))"
      ],
      "execution_count": 33,
      "outputs": [
        {
          "output_type": "stream",
          "text": [
            "53.375\n"
          ],
          "name": "stdout"
        }
      ]
    },
    {
      "cell_type": "code",
      "metadata": {
        "colab": {
          "base_uri": "https://localhost:8080/"
        },
        "id": "5gnFbTlD4z-M",
        "outputId": "9cc5b961-09aa-4923-ab00-36a09013441d"
      },
      "source": [
        "sum(nilai)/len(nilai)"
      ],
      "execution_count": 32,
      "outputs": [
        {
          "output_type": "execute_result",
          "data": {
            "text/plain": [
              "53.375"
            ]
          },
          "metadata": {
            "tags": []
          },
          "execution_count": 32
        }
      ]
    },
    {
      "cell_type": "code",
      "metadata": {
        "id": "9-fNmlCP6PX2"
      },
      "source": [
        "##3 jam lembur = 1 x 1.5 + 2 x2 =5.5\n",
        "def jamLembur(aktual):\n",
        "  return 1.5 + ((aktual-1)*2)"
      ],
      "execution_count": 34,
      "outputs": []
    },
    {
      "cell_type": "code",
      "metadata": {
        "id": "iDPx2WBQ61mc"
      },
      "source": [
        "def upahLembur(aktual,gapok):\n",
        "  return (jamLembur(aktual)*gapok)/173"
      ],
      "execution_count": 39,
      "outputs": []
    },
    {
      "cell_type": "code",
      "metadata": {
        "colab": {
          "base_uri": "https://localhost:8080/"
        },
        "id": "c7_m09ql6otC",
        "outputId": "a0233509-0fea-4c05-f7a9-6f2cae41d74b"
      },
      "source": [
        "jam_aktual=3\n",
        "hari=12\n",
        "print(\"Upah lembur anda untuk {} jam adalah {:.2f}\".format(jam_aktual,upahLembur(jam_aktual,5200000)*hari))"
      ],
      "execution_count": 44,
      "outputs": [
        {
          "output_type": "stream",
          "text": [
            "Upah lembur anda untuk 3 jam adalah 1983815.03\n"
          ],
          "name": "stdout"
        }
      ]
    },
    {
      "cell_type": "code",
      "metadata": {
        "id": "OmZ2792u8KkK"
      },
      "source": [
        "(34682/2)+(46243/2)"
      ],
      "execution_count": null,
      "outputs": []
    }
  ]
}
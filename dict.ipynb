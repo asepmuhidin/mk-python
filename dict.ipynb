{
  "nbformat": 4,
  "nbformat_minor": 0,
  "metadata": {
    "colab": {
      "name": "dict.ipynb",
      "provenance": [],
      "authorship_tag": "ABX9TyOeLPyrImzbscO1c2tGcoNA",
      "include_colab_link": true
    },
    "kernelspec": {
      "name": "python3",
      "display_name": "Python 3"
    }
  },
  "cells": [
    {
      "cell_type": "markdown",
      "metadata": {
        "id": "view-in-github",
        "colab_type": "text"
      },
      "source": [
        "<a href=\"https://colab.research.google.com/github/asepmuhidin/mk-python/blob/master/dict.ipynb\" target=\"_parent\"><img src=\"https://colab.research.google.com/assets/colab-badge.svg\" alt=\"Open In Colab\"/></a>"
      ]
    },
    {
      "cell_type": "code",
      "metadata": {
        "id": "smQHl6mmewJ2",
        "outputId": "5a9421b7-2272-4d3f-d616-3657e143b763",
        "colab": {
          "base_uri": "https://localhost:8080/"
        }
      },
      "source": [
        "## Membuat tuple\n",
        "\n",
        "names=('dedi','suhendar','ita','meli')\n",
        "str=\"Welcome\"\n",
        "print(str[0])\n",
        "print(\"Hello {}\". format(names[1]))"
      ],
      "execution_count": 8,
      "outputs": [
        {
          "output_type": "stream",
          "text": [
            "W\n",
            "Hello suhendar\n"
          ],
          "name": "stdout"
        }
      ]
    },
    {
      "cell_type": "code",
      "metadata": {
        "id": "tNwzSavEfie_",
        "outputId": "78fc78e6-aeba-4e46-d052-4adebfdb15de",
        "colab": {
          "base_uri": "https://localhost:8080/"
        }
      },
      "source": [
        "print(\"Daftar mahasiswa UPB\")\n",
        "for name in names:\n",
        "  print(name)"
      ],
      "execution_count": 9,
      "outputs": [
        {
          "output_type": "stream",
          "text": [
            "Daftar mahasiswa UPB\n",
            "dedi\n",
            "suhendar\n",
            "ita\n",
            "meli\n"
          ],
          "name": "stdout"
        }
      ]
    },
    {
      "cell_type": "code",
      "metadata": {
        "id": "4cy1nHx3gzw9",
        "outputId": "26017207-8ac6-4f34-e00c-623fed8b1764",
        "colab": {
          "base_uri": "https://localhost:8080/"
        }
      },
      "source": [
        "print(\"Jumlah mahasiswa UPB adalah {}\". format(len(names)))\n",
        "srcName=\"dedi\"\n",
        "result=\"Mahasiswa UPB\" if srcName in names else \"Bukan mahasiswa UPB\"\n",
        "print (\"{} adalah {}\". format(srcName,result))"
      ],
      "execution_count": 11,
      "outputs": [
        {
          "output_type": "stream",
          "text": [
            "Jumlah mahasiswa UPB adalah 4\n",
            "dedi adalah Mahasiswa UPB\n"
          ],
          "name": "stdout"
        }
      ]
    },
    {
      "cell_type": "code",
      "metadata": {
        "id": "bbOaak3DjY10",
        "outputId": "c6f28c00-1358-4dca-a610-77816f1ad061",
        "colab": {
          "base_uri": "https://localhost:8080/"
        }
      },
      "source": [
        "## tipe data kamus --> dict\n",
        "## kucing : cat\n",
        "##kamus={key:value}\n",
        "kamus={\n",
        "        'kucing': 'Cat',\n",
        "        'tikus' : 'Mouse',\n",
        "        'kopi'  : 'Coffee',\n",
        "        'gula'  : 'Sugar'\n",
        "} \n",
        "\n",
        "print(\"Bahasa inggris kucing adalah {}\". format(kamus['kucing']))"
      ],
      "execution_count": 22,
      "outputs": [
        {
          "output_type": "stream",
          "text": [
            "Bahasa inggris kucing adalah Cat\n"
          ],
          "name": "stdout"
        }
      ]
    },
    {
      "cell_type": "code",
      "metadata": {
        "id": "iFj_As2Xk5Dl",
        "outputId": "bb4ccb57-fce0-48f3-bac9-4bb2de677c06",
        "colab": {
          "base_uri": "https://localhost:8080/"
        }
      },
      "source": [
        "for arti in kamus :\n",
        "  print(\"Bahasa inggris {} adalah {}\". format(arti,kamus[arti]))"
      ],
      "execution_count": 23,
      "outputs": [
        {
          "output_type": "stream",
          "text": [
            "Bahasa inggris kucing adalah Cat\n",
            "Bahasa inggris tikus adalah Mouse\n",
            "Bahasa inggris kopi adalah Coffee\n",
            "Bahasa inggris gula adalah Sugar\n"
          ],
          "name": "stdout"
        }
      ]
    },
    {
      "cell_type": "code",
      "metadata": {
        "id": "_maks2gSl630"
      },
      "source": [
        "del kamus['kopi']"
      ],
      "execution_count": 16,
      "outputs": []
    },
    {
      "cell_type": "code",
      "metadata": {
        "id": "-BIgDckKmEWx"
      },
      "source": [
        "kamus.clear()"
      ],
      "execution_count": 18,
      "outputs": []
    },
    {
      "cell_type": "code",
      "metadata": {
        "id": "0qEIdO61mNVW"
      },
      "source": [
        "del kamus"
      ],
      "execution_count": 20,
      "outputs": []
    },
    {
      "cell_type": "code",
      "metadata": {
        "id": "SaXM9_Eam-iM",
        "outputId": "2e1b81c9-86af-44fb-9c0b-0430778b8261",
        "colab": {
          "base_uri": "https://localhost:8080/",
          "height": 35
        }
      },
      "source": [
        "kamus.get('gula')"
      ],
      "execution_count": 24,
      "outputs": [
        {
          "output_type": "execute_result",
          "data": {
            "application/vnd.google.colaboratory.intrinsic+json": {
              "type": "string"
            },
            "text/plain": [
              "'Sugar'"
            ]
          },
          "metadata": {
            "tags": []
          },
          "execution_count": 24
        }
      ]
    },
    {
      "cell_type": "code",
      "metadata": {
        "id": "GDA4X2gEnRRW",
        "outputId": "c04acb9b-6bd7-4cc5-c145-0021a64535fc",
        "colab": {
          "base_uri": "https://localhost:8080/"
        }
      },
      "source": [
        "kamus.items()"
      ],
      "execution_count": 25,
      "outputs": [
        {
          "output_type": "execute_result",
          "data": {
            "text/plain": [
              "dict_items([('kucing', 'Cat'), ('tikus', 'Mouse'), ('kopi', 'Coffee'), ('gula', 'Sugar')])"
            ]
          },
          "metadata": {
            "tags": []
          },
          "execution_count": 25
        }
      ]
    },
    {
      "cell_type": "code",
      "metadata": {
        "id": "uyAxoO2TnZi0",
        "outputId": "44442c8a-b129-4e80-b405-1a7dcf3c8814",
        "colab": {
          "base_uri": "https://localhost:8080/"
        }
      },
      "source": [
        "for id,en in kamus.items():\n",
        "  print(\"{} : {} \". format(id,en) )"
      ],
      "execution_count": 30,
      "outputs": [
        {
          "output_type": "stream",
          "text": [
            "kucing : Cat \n",
            "tikus : Mouse \n",
            "kopi : Coffee \n",
            "gula : Sugar \n"
          ],
          "name": "stdout"
        }
      ]
    },
    {
      "cell_type": "code",
      "metadata": {
        "id": "z2GMTGCFnlHt"
      },
      "source": [
        "a,b=('kucing','cats')\n",
        "print(a)"
      ],
      "execution_count": null,
      "outputs": []
    },
    {
      "cell_type": "code",
      "metadata": {
        "id": "LEswK235p0e6",
        "outputId": "2d39c805-a540-46ee-d60c-dc0f9bd76c86",
        "colab": {
          "base_uri": "https://localhost:8080/"
        }
      },
      "source": [
        "kamus={'kucing' : \n",
        "        {\n",
        "            'jepang': 'neko',\n",
        "            'inggris' : 'cat',\n",
        "            'sunda' : 'ucing'\n",
        "        }\n",
        "      }\n",
        "print(kamus['kucing']['sunda'])"
      ],
      "execution_count": 37,
      "outputs": [
        {
          "output_type": "stream",
          "text": [
            "ucing\n"
          ],
          "name": "stdout"
        }
      ]
    },
    {
      "cell_type": "code",
      "metadata": {
        "id": "sGnsaunPqy8q",
        "outputId": "fce07a69-1616-47fe-9825-271793c25b47",
        "colab": {
          "base_uri": "https://localhost:8080/"
        }
      },
      "source": [
        "'''\n",
        "daftar nilai mahasiswa\n",
        "nama  nilai\n",
        "adi   40\n",
        "usman 60\n",
        "dewi  90\n",
        "udin  50\n",
        "'''\n",
        "nilai={\n",
        "    'adi':40,\n",
        "    'usman': 60,\n",
        "    'dewi':  90,\n",
        "    'udin':  50\n",
        "}\n",
        "print(nilai)"
      ],
      "execution_count": 39,
      "outputs": [
        {
          "output_type": "stream",
          "text": [
            "{'adi': 40, 'usman': 60, 'dewi': 90, 'udin': 50}\n"
          ],
          "name": "stdout"
        }
      ]
    },
    {
      "cell_type": "code",
      "metadata": {
        "id": "kZ5DB8BbribG",
        "outputId": "f971008d-facf-4cf5-90e6-b24ffa4812fa",
        "colab": {
          "base_uri": "https://localhost:8080/"
        }
      },
      "source": [
        "datnilai={\n",
        "    'nama':['adi','usman','dewi','udin','sri'],\n",
        "    'nilai' :[40,30,60,100,70]\n",
        "}\n",
        "print(datnilai)"
      ],
      "execution_count": 44,
      "outputs": [
        {
          "output_type": "stream",
          "text": [
            "{'nama': ['adi', 'usman', 'dewi', 'udin', 'sri'], 'nilai': [40, 30, 60, 100, 70]}\n"
          ],
          "name": "stdout"
        }
      ]
    },
    {
      "cell_type": "code",
      "metadata": {
        "id": "T5PqSw1Crm07",
        "outputId": "2531cbd2-d2be-4e41-e295-53073440e8e1",
        "colab": {
          "base_uri": "https://localhost:8080/",
          "height": 198
        }
      },
      "source": [
        "import pandas as pd\n",
        "dataku=pd.DataFrame(datnilai)\n",
        "dataku.head()"
      ],
      "execution_count": 45,
      "outputs": [
        {
          "output_type": "execute_result",
          "data": {
            "text/html": [
              "<div>\n",
              "<style scoped>\n",
              "    .dataframe tbody tr th:only-of-type {\n",
              "        vertical-align: middle;\n",
              "    }\n",
              "\n",
              "    .dataframe tbody tr th {\n",
              "        vertical-align: top;\n",
              "    }\n",
              "\n",
              "    .dataframe thead th {\n",
              "        text-align: right;\n",
              "    }\n",
              "</style>\n",
              "<table border=\"1\" class=\"dataframe\">\n",
              "  <thead>\n",
              "    <tr style=\"text-align: right;\">\n",
              "      <th></th>\n",
              "      <th>nama</th>\n",
              "      <th>nilai</th>\n",
              "    </tr>\n",
              "  </thead>\n",
              "  <tbody>\n",
              "    <tr>\n",
              "      <th>0</th>\n",
              "      <td>adi</td>\n",
              "      <td>40</td>\n",
              "    </tr>\n",
              "    <tr>\n",
              "      <th>1</th>\n",
              "      <td>usman</td>\n",
              "      <td>30</td>\n",
              "    </tr>\n",
              "    <tr>\n",
              "      <th>2</th>\n",
              "      <td>dewi</td>\n",
              "      <td>60</td>\n",
              "    </tr>\n",
              "    <tr>\n",
              "      <th>3</th>\n",
              "      <td>udin</td>\n",
              "      <td>100</td>\n",
              "    </tr>\n",
              "    <tr>\n",
              "      <th>4</th>\n",
              "      <td>sri</td>\n",
              "      <td>70</td>\n",
              "    </tr>\n",
              "  </tbody>\n",
              "</table>\n",
              "</div>"
            ],
            "text/plain": [
              "    nama  nilai\n",
              "0    adi     40\n",
              "1  usman     30\n",
              "2   dewi     60\n",
              "3   udin    100\n",
              "4    sri     70"
            ]
          },
          "metadata": {
            "tags": []
          },
          "execution_count": 45
        }
      ]
    },
    {
      "cell_type": "code",
      "metadata": {
        "id": "IZA9u56AssOZ",
        "outputId": "f817ce8a-c3d0-4ab8-8eb7-1ac045e8a5ba",
        "colab": {
          "base_uri": "https://localhost:8080/",
          "height": 265
        }
      },
      "source": [
        "import matplotlib.pyplot as plt\n",
        "plt.scatter(dataku['nama'],dataku['nilai'])\n",
        "plt.show()"
      ],
      "execution_count": 49,
      "outputs": [
        {
          "output_type": "display_data",
          "data": {
            "image/png": "[encoded data removed]",
            "text/plain": [
              "<Figure size 432x288 with 1 Axes>"
            ]
          },
          "metadata": {
            "tags": [],
            "needs_background": "light"
          }
        }
      ]
    }
  ]
}
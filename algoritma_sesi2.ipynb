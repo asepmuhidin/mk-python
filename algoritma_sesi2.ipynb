{
  "nbformat": 4,
  "nbformat_minor": 0,
  "metadata": {
    "colab": {
      "name": "TESS.ipynb",
      "provenance": [],
      "authorship_tag": "ABX9TyO9m9ESbNc5Kd+1bWIEkZk2",
      "include_colab_link": true
    },
    "kernelspec": {
      "name": "python3",
      "display_name": "Python 3"
    }
  },
  "cells": [
    {
      "cell_type": "markdown",
      "metadata": {
        "id": "view-in-github",
        "colab_type": "text"
      },
      "source": [
        "<a href=\"https://colab.research.google.com/github/asepmuhidin/mk-python/blob/master/algoritma_sesi2.ipynb\" target=\"_parent\"><img src=\"https://colab.research.google.com/assets/colab-badge.svg\" alt=\"Open In Colab\"/></a>"
      ]
    },
    {
      "cell_type": "code",
      "metadata": {
        "id": "5rukkeGGxMcU"
      },
      "source": [
        "#input nilai a dan b\n",
        "a=10\n",
        "b=5\n",
        "\n",
        "#proses menjumlahkan bilangan a dan b\n",
        "c=a+b\n",
        "\n",
        "#output penjumlahan/proses\n",
        "print(c)"
      ],
      "execution_count": null,
      "outputs": []
    },
    {
      "cell_type": "code",
      "metadata": {
        "id": "pg-kSR-S2RFG",
        "outputId": "eaa67479-4387-42d9-cf2f-e8a0760e5fe9",
        "colab": {
          "base_uri": "https://localhost:8080/",
          "height": 123
        }
      },
      "source": [
        "#input nilai a dan b\n",
        "gelas1=\"TEH\"\n",
        "gelas2=\"KOPI\"\n",
        "\n",
        "print(\"DATA SEBELUM PROSES PEMINDAHAN\")\n",
        "print(\"Isi Gelas 1 adalah :\" , gelas1)\n",
        "print(\"Isi Gelas 2 adalah :\" , gelas2)\n",
        "\n",
        "#proses memindahkan isi kopi dan teh\n",
        "gelas_kosong=gelas1\n",
        "gelas1=gelas2\n",
        "gelas2=gelas_kosong\n",
        "\n",
        "#output penjumlahan/proses\n",
        "print(\"DATA SETELAH PROSES PEMINDAHAN\")\n",
        "print(\"Isi Gelas 1 adalah :\" , gelas1)\n",
        "print(\"Isi Gelas 2 adalah :\" , gelas2)\n",
        "\n"
      ],
      "execution_count": 5,
      "outputs": [
        {
          "output_type": "stream",
          "text": [
            "DATA SEBELUM PROSES PEMINDAHAN\n",
            "Isi Gelas 1 adalah : TEH\n",
            "Isi Gelas 2 adalah : KOPI\n",
            "DATA SETELAH PROSES PEMINDAHAN\n",
            "Isi Gelas 1 adalah : KOPI\n",
            "Isi Gelas 2 adalah : TEH\n"
          ],
          "name": "stdout"
        }
      ]
    }
  ]
}
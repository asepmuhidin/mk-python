{
  "nbformat": 4,
  "nbformat_minor": 0,
  "metadata": {
    "colab": {
      "name": "kriptografi_klasik_1.ipynb",
      "provenance": [],
      "authorship_tag": "ABX9TyNQSWhgD1Ni3oAYTVxZyvmD",
      "include_colab_link": true
    },
    "kernelspec": {
      "name": "python3",
      "display_name": "Python 3"
    },
    "language_info": {
      "name": "python"
    }
  },
  "cells": [
    {
      "cell_type": "markdown",
      "metadata": {
        "id": "view-in-github",
        "colab_type": "text"
      },
      "source": [
        "<a href=\"https://colab.research.google.com/github/asepmuhidin/mk-python/blob/master/kriptografi_klasik_1.ipynb\" target=\"_parent\"><img src=\"https://colab.research.google.com/assets/colab-badge.svg\" alt=\"Open In Colab\"/></a>"
      ]
    },
    {
      "cell_type": "code",
      "metadata": {
        "colab": {
          "base_uri": "https://localhost:8080/"
        },
        "id": "5Rso-7gajQUS",
        "outputId": "3e98891e-706a-4ff6-a0c8-c731292df15b"
      },
      "source": [
        "plain_teks=\"Indonesia Raya\"\n",
        "type(plain_teks)"
      ],
      "execution_count": 2,
      "outputs": [
        {
          "output_type": "execute_result",
          "data": {
            "text/plain": [
              "str"
            ]
          },
          "metadata": {},
          "execution_count": 2
        }
      ]
    },
    {
      "cell_type": "code",
      "metadata": {
        "colab": {
          "base_uri": "https://localhost:8080/",
          "height": 35
        },
        "id": "FsjD-lZGjmWm",
        "outputId": "c4eb2aa2-cf6b-45dd-a6fc-63a78bcbc071"
      },
      "source": [
        "list1=['a','b','c']\n",
        "list1[0]"
      ],
      "execution_count": 3,
      "outputs": [
        {
          "output_type": "execute_result",
          "data": {
            "application/vnd.google.colaboratory.intrinsic+json": {
              "type": "string"
            },
            "text/plain": [
              "'a'"
            ]
          },
          "metadata": {},
          "execution_count": 3
        }
      ]
    },
    {
      "cell_type": "code",
      "metadata": {
        "colab": {
          "base_uri": "https://localhost:8080/",
          "height": 35
        },
        "id": "9ShKdchckPeO",
        "outputId": "1a4b93c8-0f3d-44e4-a1a6-573bc9974f6f"
      },
      "source": [
        "#String juga dalah merupakan list\n",
        "plain_teks[1]"
      ],
      "execution_count": 5,
      "outputs": [
        {
          "output_type": "execute_result",
          "data": {
            "application/vnd.google.colaboratory.intrinsic+json": {
              "type": "string"
            },
            "text/plain": [
              "'n'"
            ]
          },
          "metadata": {},
          "execution_count": 5
        }
      ]
    },
    {
      "cell_type": "code",
      "metadata": {
        "colab": {
          "base_uri": "https://localhost:8080/"
        },
        "id": "JaMBMjc6kiqo",
        "outputId": "02ceb38d-f073-437b-bbdb-16c6ff475cc3"
      },
      "source": [
        "len(list1)"
      ],
      "execution_count": 6,
      "outputs": [
        {
          "output_type": "execute_result",
          "data": {
            "text/plain": [
              "3"
            ]
          },
          "metadata": {},
          "execution_count": 6
        }
      ]
    },
    {
      "cell_type": "code",
      "metadata": {
        "colab": {
          "base_uri": "https://localhost:8080/"
        },
        "id": "QTnRRzRhkqMi",
        "outputId": "d8f4cfaf-3a82-4e0d-d9c5-71adc50c558a"
      },
      "source": [
        "len(plain_teks)"
      ],
      "execution_count": 7,
      "outputs": [
        {
          "output_type": "execute_result",
          "data": {
            "text/plain": [
              "14"
            ]
          },
          "metadata": {},
          "execution_count": 7
        }
      ]
    },
    {
      "cell_type": "code",
      "metadata": {
        "colab": {
          "base_uri": "https://localhost:8080/"
        },
        "id": "pT02BpSUk748",
        "outputId": "a6414702-b8a7-4f8b-e740-607c8835247f"
      },
      "source": [
        "for i in range(5):\n",
        "  print(i)"
      ],
      "execution_count": 9,
      "outputs": [
        {
          "output_type": "stream",
          "name": "stdout",
          "text": [
            "0\n",
            "1\n",
            "2\n",
            "3\n",
            "4\n"
          ]
        }
      ]
    },
    {
      "cell_type": "code",
      "metadata": {
        "colab": {
          "base_uri": "https://localhost:8080/"
        },
        "id": "oHGzIvEKlk5D",
        "outputId": "04e62432-7e72-4c0f-9cb1-afe8e54d7106"
      },
      "source": [
        "#range(strat,end, step)\n",
        "for i in range(5,-1,-1):\n",
        "  print(i)\n"
      ],
      "execution_count": 12,
      "outputs": [
        {
          "output_type": "stream",
          "name": "stdout",
          "text": [
            "5\n",
            "4\n",
            "3\n",
            "2\n",
            "1\n",
            "0\n"
          ]
        }
      ]
    },
    {
      "cell_type": "code",
      "metadata": {
        "colab": {
          "base_uri": "https://localhost:8080/"
        },
        "id": "YBacLGP7mDsk",
        "outputId": "e451c85c-f1af-443f-ad1e-0b87117f62c0"
      },
      "source": [
        "enkripsi=\"\"\n",
        "for i in range(len(plain_teks)-1,-1,-1):\n",
        "  enkripsi +=plain_teks[i]\n",
        "\n",
        "print(enkripsi)"
      ],
      "execution_count": 16,
      "outputs": [
        {
          "output_type": "stream",
          "name": "stdout",
          "text": [
            "ayaR aisenodnI\n"
          ]
        }
      ]
    },
    {
      "cell_type": "code",
      "metadata": {
        "id": "zhXqkOEmmqZM"
      },
      "source": [
        "def reverse_chiper(plain_teks):\n",
        "  enkripsi=\"\"\n",
        "  for i in range(len(plain_teks)-1,-1,-1):\n",
        "    enkripsi +=plain_teks[i]\n",
        "  return enkripsi  "
      ],
      "execution_count": 17,
      "outputs": []
    },
    {
      "cell_type": "code",
      "metadata": {
        "colab": {
          "base_uri": "https://localhost:8080/"
        },
        "id": "Wu3TfJN5nH-m",
        "outputId": "b86c1f2b-d419-4af3-c289-8a2658099bc4"
      },
      "source": [
        "teks=\"Apabila anda mengubah isi dari variabel pesan menjadi ayaR aisenodnI\"\n",
        "enkripsi=reverse_chiper(teks)\n",
        "print(enkripsi)\n",
        "enkripsi=reverse_chiper(enkripsi)\n",
        "print(enkripsi)"
      ],
      "execution_count": 19,
      "outputs": [
        {
          "output_type": "stream",
          "name": "stdout",
          "text": [
            "Indonesia Raya idajnem nasep lebairav irad isi habugnem adna alibapA\n",
            "Apabila anda mengubah isi dari variabel pesan menjadi ayaR aisenodnI\n"
          ]
        }
      ]
    },
    {
      "cell_type": "code",
      "metadata": {
        "id": "faJ3I9l-sy4C"
      },
      "source": [
        "alphabet ='ABCDEFGHIJKLMNOPQRSTUVWXYZ'\n",
        "plain_teks=\"Indonesia Raya\""
      ],
      "execution_count": 60,
      "outputs": []
    },
    {
      "cell_type": "code",
      "metadata": {
        "colab": {
          "base_uri": "https://localhost:8080/",
          "height": 35
        },
        "id": "zzpf9L7PtKqK",
        "outputId": "34e8ca27-1c47-4f5a-d745-158818054aaa"
      },
      "source": [
        "#Merubah plain teks menjadi hurup besar\n",
        "plain_teks=plain_teks.upper()\n",
        "plain_teks"
      ],
      "execution_count": 61,
      "outputs": [
        {
          "output_type": "execute_result",
          "data": {
            "application/vnd.google.colaboratory.intrinsic+json": {
              "type": "string"
            },
            "text/plain": [
              "'INDONESIA RAYA'"
            ]
          },
          "metadata": {},
          "execution_count": 61
        }
      ]
    },
    {
      "cell_type": "code",
      "metadata": {
        "id": "loGILybWtk_C"
      },
      "source": [
        "geser=3"
      ],
      "execution_count": 43,
      "outputs": []
    },
    {
      "cell_type": "code",
      "metadata": {
        "colab": {
          "base_uri": "https://localhost:8080/"
        },
        "id": "DKmJgXBItw2P",
        "outputId": "cce10b51-afa9-4c58-e467-1d0b29466a69"
      },
      "source": [
        "for hurup in plain_teks:\n",
        "  print(hurup, end=\"\")"
      ],
      "execution_count": 44,
      "outputs": [
        {
          "output_type": "stream",
          "name": "stdout",
          "text": [
            "AWASI ASTERIX DAN TEMANNYA OBELIX"
          ]
        }
      ]
    },
    {
      "cell_type": "code",
      "metadata": {
        "colab": {
          "base_uri": "https://localhost:8080/"
        },
        "id": "zd7TczTzuCjQ",
        "outputId": "3984653c-e34c-4628-e7ef-74de91c7f38c"
      },
      "source": [
        "for hurup in plain_teks:\n",
        "  enkripsi=alphabet.find(hurup)\n",
        "  print(f\"{hurup} adalah berada pada index ke {enkripsi} dari alphabet \")"
      ],
      "execution_count": 45,
      "outputs": [
        {
          "output_type": "stream",
          "name": "stdout",
          "text": [
            "A adalah berada pada index ke 0 dari alphabet \n",
            "W adalah berada pada index ke 22 dari alphabet \n",
            "A adalah berada pada index ke 0 dari alphabet \n",
            "S adalah berada pada index ke 18 dari alphabet \n",
            "I adalah berada pada index ke 8 dari alphabet \n",
            "  adalah berada pada index ke -1 dari alphabet \n",
            "A adalah berada pada index ke 0 dari alphabet \n",
            "S adalah berada pada index ke 18 dari alphabet \n",
            "T adalah berada pada index ke 19 dari alphabet \n",
            "E adalah berada pada index ke 4 dari alphabet \n",
            "R adalah berada pada index ke 17 dari alphabet \n",
            "I adalah berada pada index ke 8 dari alphabet \n",
            "X adalah berada pada index ke 23 dari alphabet \n",
            "  adalah berada pada index ke -1 dari alphabet \n",
            "D adalah berada pada index ke 3 dari alphabet \n",
            "A adalah berada pada index ke 0 dari alphabet \n",
            "N adalah berada pada index ke 13 dari alphabet \n",
            "  adalah berada pada index ke -1 dari alphabet \n",
            "T adalah berada pada index ke 19 dari alphabet \n",
            "E adalah berada pada index ke 4 dari alphabet \n",
            "M adalah berada pada index ke 12 dari alphabet \n",
            "A adalah berada pada index ke 0 dari alphabet \n",
            "N adalah berada pada index ke 13 dari alphabet \n",
            "N adalah berada pada index ke 13 dari alphabet \n",
            "Y adalah berada pada index ke 24 dari alphabet \n",
            "A adalah berada pada index ke 0 dari alphabet \n",
            "  adalah berada pada index ke -1 dari alphabet \n",
            "O adalah berada pada index ke 14 dari alphabet \n",
            "B adalah berada pada index ke 1 dari alphabet \n",
            "E adalah berada pada index ke 4 dari alphabet \n",
            "L adalah berada pada index ke 11 dari alphabet \n",
            "I adalah berada pada index ke 8 dari alphabet \n",
            "X adalah berada pada index ke 23 dari alphabet \n"
          ]
        }
      ]
    },
    {
      "cell_type": "code",
      "metadata": {
        "colab": {
          "base_uri": "https://localhost:8080/"
        },
        "id": "AmyYYiMku00Z",
        "outputId": "27a83141-9cb9-4f69-edcd-1d6f927be87a"
      },
      "source": [
        "for hurup in plain_teks:\n",
        "  enkripsi=(alphabet.find(hurup)+geser) % 26\n",
        "  print(f\"{hurup} adalah berada pada index ke {enkripsi} dari alphabet setelah digeser 3\")"
      ],
      "execution_count": 46,
      "outputs": [
        {
          "output_type": "stream",
          "name": "stdout",
          "text": [
            "A adalah berada pada index ke 3 dari alphabet setelah digeser 3\n",
            "W adalah berada pada index ke 25 dari alphabet setelah digeser 3\n",
            "A adalah berada pada index ke 3 dari alphabet setelah digeser 3\n",
            "S adalah berada pada index ke 21 dari alphabet setelah digeser 3\n",
            "I adalah berada pada index ke 11 dari alphabet setelah digeser 3\n",
            "  adalah berada pada index ke 2 dari alphabet setelah digeser 3\n",
            "A adalah berada pada index ke 3 dari alphabet setelah digeser 3\n",
            "S adalah berada pada index ke 21 dari alphabet setelah digeser 3\n",
            "T adalah berada pada index ke 22 dari alphabet setelah digeser 3\n",
            "E adalah berada pada index ke 7 dari alphabet setelah digeser 3\n",
            "R adalah berada pada index ke 20 dari alphabet setelah digeser 3\n",
            "I adalah berada pada index ke 11 dari alphabet setelah digeser 3\n",
            "X adalah berada pada index ke 0 dari alphabet setelah digeser 3\n",
            "  adalah berada pada index ke 2 dari alphabet setelah digeser 3\n",
            "D adalah berada pada index ke 6 dari alphabet setelah digeser 3\n",
            "A adalah berada pada index ke 3 dari alphabet setelah digeser 3\n",
            "N adalah berada pada index ke 16 dari alphabet setelah digeser 3\n",
            "  adalah berada pada index ke 2 dari alphabet setelah digeser 3\n",
            "T adalah berada pada index ke 22 dari alphabet setelah digeser 3\n",
            "E adalah berada pada index ke 7 dari alphabet setelah digeser 3\n",
            "M adalah berada pada index ke 15 dari alphabet setelah digeser 3\n",
            "A adalah berada pada index ke 3 dari alphabet setelah digeser 3\n",
            "N adalah berada pada index ke 16 dari alphabet setelah digeser 3\n",
            "N adalah berada pada index ke 16 dari alphabet setelah digeser 3\n",
            "Y adalah berada pada index ke 1 dari alphabet setelah digeser 3\n",
            "A adalah berada pada index ke 3 dari alphabet setelah digeser 3\n",
            "  adalah berada pada index ke 2 dari alphabet setelah digeser 3\n",
            "O adalah berada pada index ke 17 dari alphabet setelah digeser 3\n",
            "B adalah berada pada index ke 4 dari alphabet setelah digeser 3\n",
            "E adalah berada pada index ke 7 dari alphabet setelah digeser 3\n",
            "L adalah berada pada index ke 14 dari alphabet setelah digeser 3\n",
            "I adalah berada pada index ke 11 dari alphabet setelah digeser 3\n",
            "X adalah berada pada index ke 0 dari alphabet setelah digeser 3\n"
          ]
        }
      ]
    },
    {
      "cell_type": "code",
      "metadata": {
        "colab": {
          "base_uri": "https://localhost:8080/"
        },
        "id": "qEdLELqMvWkz",
        "outputId": "1f641a49-4fbc-4f1b-f910-8b47c17add89"
      },
      "source": [
        "for hurup in plain_teks:\n",
        "  enkripsi=alphabet[(alphabet.find(hurup)+geser) % 26]\n",
        "  print(f\"{hurup} menjadi {enkripsi} setelah di enkripsi\")"
      ],
      "execution_count": 47,
      "outputs": [
        {
          "output_type": "stream",
          "name": "stdout",
          "text": [
            "A menjadi D setelah di enkripsi\n",
            "W menjadi Z setelah di enkripsi\n",
            "A menjadi D setelah di enkripsi\n",
            "S menjadi V setelah di enkripsi\n",
            "I menjadi L setelah di enkripsi\n",
            "  menjadi C setelah di enkripsi\n",
            "A menjadi D setelah di enkripsi\n",
            "S menjadi V setelah di enkripsi\n",
            "T menjadi W setelah di enkripsi\n",
            "E menjadi H setelah di enkripsi\n",
            "R menjadi U setelah di enkripsi\n",
            "I menjadi L setelah di enkripsi\n",
            "X menjadi A setelah di enkripsi\n",
            "  menjadi C setelah di enkripsi\n",
            "D menjadi G setelah di enkripsi\n",
            "A menjadi D setelah di enkripsi\n",
            "N menjadi Q setelah di enkripsi\n",
            "  menjadi C setelah di enkripsi\n",
            "T menjadi W setelah di enkripsi\n",
            "E menjadi H setelah di enkripsi\n",
            "M menjadi P setelah di enkripsi\n",
            "A menjadi D setelah di enkripsi\n",
            "N menjadi Q setelah di enkripsi\n",
            "N menjadi Q setelah di enkripsi\n",
            "Y menjadi B setelah di enkripsi\n",
            "A menjadi D setelah di enkripsi\n",
            "  menjadi C setelah di enkripsi\n",
            "O menjadi R setelah di enkripsi\n",
            "B menjadi E setelah di enkripsi\n",
            "E menjadi H setelah di enkripsi\n",
            "L menjadi O setelah di enkripsi\n",
            "I menjadi L setelah di enkripsi\n",
            "X menjadi A setelah di enkripsi\n"
          ]
        }
      ]
    },
    {
      "cell_type": "code",
      "metadata": {
        "colab": {
          "base_uri": "https://localhost:8080/"
        },
        "id": "dL3uIXDDv0xs",
        "outputId": "448a14b9-4058-4045-ccd3-16a782680afb"
      },
      "source": [
        "plain_teks='Indonesia Raya'\n",
        "enkripsi=\"\"\n",
        "for hurup in plain_teks:\n",
        "  if hurup==\" \":\n",
        "    enkripsi +=\"\"\n",
        "  else :    \n",
        "    enkripsi +=alphabet[(alphabet.find(hurup)+geser) % 26]\n",
        "\n",
        "print(plain_teks)\n",
        "print(enkripsi)"
      ],
      "execution_count": 59,
      "outputs": [
        {
          "output_type": "stream",
          "name": "stdout",
          "text": [
            "Indonesia Raya\n",
            "LCCCCCCCCUCCC\n"
          ]
        }
      ]
    },
    {
      "cell_type": "code",
      "metadata": {
        "id": "Mg0Icmo3xwG9"
      },
      "source": [
        "def caesar_chiper(plain_teks,n_shift):\n",
        "  alphabet ='ABCDEFGHIJKLMNOPQRSTUVWXYZ'\n",
        "  enkripsi=\"\"\n",
        "  for hurup in plain_teks.upper():\n",
        "    if hurup==\" \":\n",
        "      enkripsi +=\"\"\n",
        "    else :    \n",
        "      enkripsi +=alphabet[(alphabet.find(hurup)+n_shift) % 26]\n",
        "  return enkripsi"
      ],
      "execution_count": 62,
      "outputs": []
    },
    {
      "cell_type": "code",
      "metadata": {
        "colab": {
          "base_uri": "https://localhost:8080/"
        },
        "id": "fh4c_VrSyEUm",
        "outputId": "907f3823-3e24-463b-9688-ff35397f1ab1"
      },
      "source": [
        "pesan ='Indonesia Raya'\n",
        "e=caesar_chiper(pesan,9)\n",
        "print(e)"
      ],
      "execution_count": 63,
      "outputs": [
        {
          "output_type": "stream",
          "name": "stdout",
          "text": [
            "RWMXWNBRJAJHJ\n"
          ]
        }
      ]
    }
  ]
}
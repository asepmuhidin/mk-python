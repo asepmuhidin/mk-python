{
  "nbformat": 4,
  "nbformat_minor": 0,
  "metadata": {
    "colab": {
      "name": "SESI-14_pemograman1.ipynb",
      "provenance": [],
      "authorship_tag": "ABX9TyNv5GSt3zNwG6ncxOu4n7NY",
      "include_colab_link": true
    },
    "kernelspec": {
      "name": "python3",
      "display_name": "Python 3"
    }
  },
  "cells": [
    {
      "cell_type": "markdown",
      "metadata": {
        "id": "view-in-github",
        "colab_type": "text"
      },
      "source": [
        "<a href=\"https://colab.research.google.com/github/asepmuhidin/mk-python/blob/master/SESI_14_pemograman1.ipynb\" target=\"_parent\"><img src=\"https://colab.research.google.com/assets/colab-badge.svg\" alt=\"Open In Colab\"/></a>"
      ]
    },
    {
      "cell_type": "markdown",
      "metadata": {
        "id": "d6b8Z9x5FFc9"
      },
      "source": [
        "# \\*args dan **args\n",
        "## Apa itu *args ??\n",
        "### *args adalah variabel dengan kemampuan menginput nilai yang banyak dalam bentuk tuple. perhatikan contoh fungsi berikut."
      ]
    },
    {
      "cell_type": "code",
      "metadata": {
        "colab": {
          "base_uri": "https://localhost:8080/"
        },
        "id": "RqO0yRbqE-0I",
        "outputId": "8344e1b3-3e1e-4626-e7c4-a3f92bfa365d"
      },
      "source": [
        "#dengan variabel biasa (nama)\n",
        "def helo(nama):\n",
        "  print(nama)\n",
        "\n",
        "#dengan variabel *args (*nama)\n",
        "def hello(*nama):\n",
        "  print(nama)\n",
        "\n",
        "##panggil fungsi\n",
        "helo(\"Dani\")\n",
        "hello(\"Dani\",\"Susi\",\"Dian\",\"Agus\")"
      ],
      "execution_count": 4,
      "outputs": [
        {
          "output_type": "stream",
          "text": [
            "Dani\n",
            "('Dani', 'Susi', 'Dian', 'Agus')\n"
          ],
          "name": "stdout"
        }
      ]
    },
    {
      "cell_type": "code",
      "metadata": {
        "colab": {
          "base_uri": "https://localhost:8080/"
        },
        "id": "SHgVxWvVGQvb",
        "outputId": "9afa7a7f-56b5-4b26-827b-45f2373c7f12"
      },
      "source": [
        "#contoh lain menghitung nilai rata\n",
        "def nilai_rata2(*nilai):\n",
        "  return sum(nilai)/len(nilai)\n",
        "\n",
        "#Panggil fungsi\n",
        "avg=nilai_rata2(2,3,4,5,6)\n",
        "print(f\"Nilai rata-rata adalah {avg} \")"
      ],
      "execution_count": 5,
      "outputs": [
        {
          "output_type": "stream",
          "text": [
            "Nilai rata-rata adalah 4.0 \n"
          ],
          "name": "stdout"
        }
      ]
    },
    {
      "cell_type": "markdown",
      "metadata": {
        "id": "coIVe2ZzHqKo"
      },
      "source": [
        "## Apa itu **args ??\n",
        "### **args adalah variabel dengan kemampuan menginput nilai yang banyak dengan bentuk dictionary. perhatikan contoh fungsi berikut."
      ]
    },
    {
      "cell_type": "code",
      "metadata": {
        "colab": {
          "base_uri": "https://localhost:8080/"
        },
        "id": "AYTp1XRiHlZY",
        "outputId": "141dbe3d-047d-4529-bcb4-a132852ad3ae"
      },
      "source": [
        "##fungsi biasa  \n",
        "def profile(nama,alamat,email):\n",
        "  print(f\"Nama :{nama}\\nAlamat :{alamat}\\nEmail :{email}\")\n",
        "\n",
        "profile(\"Alesha\",\"Bekasi\",\"alesha@gmail.com\")\n"
      ],
      "execution_count": 17,
      "outputs": [
        {
          "output_type": "stream",
          "text": [
            "Nama :Alesha\n",
            "Alamat :Bekasi\n",
            "Email :alesha@gmail.com\n"
          ],
          "name": "stdout"
        }
      ]
    },
    {
      "cell_type": "code",
      "metadata": {
        "colab": {
          "base_uri": "https://localhost:8080/"
        },
        "id": "5WBQVNw4KG6w",
        "outputId": "e8a3002f-9b2d-44d8-eae3-ff26a9e7c164"
      },
      "source": [
        "##fungsi dengan **args\n",
        "def profile1(**data):\n",
        "  print(data)\n",
        "  \n",
        "profile1(nama=\"Alesha Yumna\",alamat=\"Cikarang\", email=\"alesha@gmail.com\") "
      ],
      "execution_count": 28,
      "outputs": [
        {
          "output_type": "stream",
          "text": [
            "{'nama': 'Alesha Yumna', 'alamat': 'Cikarang', 'email': 'alesha@gmail.com'}\n"
          ],
          "name": "stdout"
        }
      ]
    },
    {
      "cell_type": "code",
      "metadata": {
        "colab": {
          "base_uri": "https://localhost:8080/"
        },
        "id": "uhKnEZHwL3IZ",
        "outputId": "6aad2047-29bf-46ee-c9c1-f2548d4832f4"
      },
      "source": [
        "##Fungsi dengan **args dan menampilkan index dict\n",
        "def profile2(**data):\n",
        "  for k,v in data.items():\n",
        "    print(f\"{k}: {v}\")\n",
        "\n",
        "\n",
        "  \n",
        "profile2(nama=\"Alesha Yumna\",alamat=\"Cikarang\", email=\"alesha@gmail.com\") "
      ],
      "execution_count": 30,
      "outputs": [
        {
          "output_type": "stream",
          "text": [
            "nama: Alesha Yumna\n",
            "alamat: Cikarang\n",
            "email: alesha@gmail.com\n"
          ],
          "name": "stdout"
        }
      ]
    },
    {
      "cell_type": "code",
      "metadata": {
        "colab": {
          "base_uri": "https://localhost:8080/"
        },
        "id": "tlYp3iJ2MXOX",
        "outputId": "064ae01b-f520-4d34-e3b7-b747951a0051"
      },
      "source": [
        "#Bahkan kita bisa sesuka kita memasukan data variabel dan isinya, contoh\n",
        "profile2(EmpName=\"Mahendratama\", Salary=120000000,Jabatan=\"Presiden Direktur\")"
      ],
      "execution_count": 34,
      "outputs": [
        {
          "output_type": "stream",
          "text": [
            "EmpName: Mahendratama\n",
            "Salary: 120000000\n",
            "Jabatan: Presiden Direktur\n"
          ],
          "name": "stdout"
        }
      ]
    },
    {
      "cell_type": "code",
      "metadata": {
        "id": "-2UG1v3ON3sN"
      },
      "source": [
        ""
      ],
      "execution_count": null,
      "outputs": []
    },
    {
      "cell_type": "markdown",
      "metadata": {
        "id": "ayhVDRYfNHuZ"
      },
      "source": [
        "# TUGAS\n",
        "##Buat contoh program yang memanfaatkan variabel *args dan **args. Tidak boleh sama dengan yang di atas. "
      ]
    }
  ]
}
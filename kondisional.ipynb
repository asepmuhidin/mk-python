{
  "nbformat": 4,
  "nbformat_minor": 0,
  "metadata": {
    "colab": {
      "name": "kondisional.ipynb",
      "provenance": [],
      "authorship_tag": "ABX9TyOBUDTbvIgZx5S8s3IjhtmE",
      "include_colab_link": true
    },
    "kernelspec": {
      "name": "python3",
      "display_name": "Python 3"
    }
  },
  "cells": [
    {
      "cell_type": "markdown",
      "metadata": {
        "id": "view-in-github",
        "colab_type": "text"
      },
      "source": [
        "<a href=\"https://colab.research.google.com/github/asepmuhidin/mk-python/blob/master/kondisional.ipynb\" target=\"_parent\"><img src=\"https://colab.research.google.com/assets/colab-badge.svg\" alt=\"Open In Colab\"/></a>"
      ]
    },
    {
      "cell_type": "code",
      "metadata": {
        "id": "DstOulcC0F6L"
      },
      "source": [
        "##input data dari keyboard\n",
        "umur=int(input(\"Masukan umur kamu ?\"))\n",
        "\n",
        "## proses menyeleksi data umur\n",
        "## untuk perintah dibawah kondisi, gunakan tab atau spasi 2\n",
        "if umur >= 18:\n",
        "  status=\"Kamu sudah dewasa\"\n",
        "else :\n",
        "  status=\"Kamu masih anak-anak\"  \n",
        "\n",
        "##output dari hasil seleksi\n",
        "print(status, \" karena umur kamu \", umur , \" tahun\")  \n"
      ],
      "execution_count": null,
      "outputs": []
    },
    {
      "cell_type": "code",
      "metadata": {
        "id": "HABmiCa14Sug"
      },
      "source": [
        "## IF ELIF ELSE\n",
        "shif=int(input(\"Input shift kerja anda (1/2)?\"))\n",
        "if shif==1 :\n",
        "  kerja=\"Pagi\"\n",
        "elif shif==2:\n",
        "  kerja=\"Malam\"\n",
        "else :\n",
        "  kerja =\"Weekend\"\n",
        "\n",
        "print(\"Anda masuk kerja \", kerja)"
      ],
      "execution_count": null,
      "outputs": []
    },
    {
      "cell_type": "code",
      "metadata": {
        "id": "XFa8dbfd6Rdl"
      },
      "source": [
        "bil=int(input(\"Input sembarang bilangan ?\"))\n",
        "\n",
        "if bil == 0:\n",
        "    status = \"netral\"\n",
        "elif bil % 2 == 0:\n",
        "    status = \"genap\"\n",
        "else:\n",
        "    status = \"ganjil\"\n",
        "\n",
        "print(\"Bilangan \", bil , \" adalah bilangan \", status)\n"
      ],
      "execution_count": null,
      "outputs": []
    },
    {
      "cell_type": "code",
      "metadata": {
        "id": "4mOTgShB96sI"
      },
      "source": [
        "'''\n",
        "Belanja hp... \n",
        "jika beli 3 diskon 10%, \n",
        "jika bila 4 diskon 15%... \n",
        "jika beli 5 diskn 20%... \n",
        "jika beli 1 atau 0... \n",
        "diskn 0%\n",
        "'''\n",
        "\n",
        "beli=int(input(\"Jumlah HP yang dibeli ?\"))\n",
        "harga=int(input(\"Jumlah HP yang dibeli ?\")) \n",
        "\n",
        "if beli >= 7 :\n",
        "  disc=0.2\n",
        "elif beli >= 4 :\n",
        "  disc=0.15\n",
        "elif beli >= 2 :\n",
        "  disc=0.1\n",
        "else :\n",
        "  disc=0\n",
        "\n",
        "subtotal=beli*harga\n",
        "discOfSubTotal=subtotal*disc\n",
        "bayar=subtotal-discOfSubTotal\n",
        "\n",
        "print(\"Anda membeli HP sejumlah \", beli)\n",
        "print(\"Dengan harga \", harga)\n",
        "print(\"Toatl Belanja \", subtotal)\n",
        "print(\"Diskon anda \", discOfSubTotal)\n",
        "print(\"Bayar setelah dipotong diskon \", bayar)\n",
        "\n",
        "\n"
      ],
      "execution_count": null,
      "outputs": []
    },
    {
      "cell_type": "markdown",
      "metadata": {
        "id": "tM4hxb_9BNNn"
      },
      "source": [
        "# ![akar_kuadrat.png](data:image/png;base64,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)"
      ]
    },
    {
      "cell_type": "markdown",
      "metadata": {
        "id": "S0xa-PPJBdtp"
      },
      "source": [
        "## Rumus determinan \n",
        "## d= b**2 - 4ac"
      ]
    },
    {
      "cell_type": "code",
      "metadata": {
        "id": "j0VP_xDFCeZ3"
      },
      "source": [
        "import math\n",
        "\n",
        "a=int(input(\"Input a ?\"))\n",
        "b=int(input(\"Input b ?\"))\n",
        "c=int(input(\"Input c ?\"))\n",
        "\n",
        "d=b**2 - (4*a*c)\n",
        "\n",
        "if d>=0 :\n",
        "  x1=(-b+math.sqrt(d))/ (2*a)\n",
        "  x2=(-b-math.sqrt(d))/ (2*a)\n",
        "  msg=\"X1=\", x1 , \" , X2=\", x2 \n",
        "else :\n",
        "  msg=\"Imajiner\"\n",
        "\n",
        "print(\"X1 dan X2 dari persamaan tersebut adalah :\", msg)\n",
        "\n"
      ],
      "execution_count": null,
      "outputs": []
    }
  ]
}
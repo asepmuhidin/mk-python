{
  "nbformat": 4,
  "nbformat_minor": 0,
  "metadata": {
    "colab": {
      "name": "matematika_kripto..ipynb",
      "provenance": [],
      "authorship_tag": "ABX9TyOZIwI9W28wEc/pATz7h/KO",
      "include_colab_link": true
    },
    "kernelspec": {
      "name": "python3",
      "display_name": "Python 3"
    },
    "language_info": {
      "name": "python"
    }
  },
  "cells": [
    {
      "cell_type": "markdown",
      "metadata": {
        "id": "view-in-github",
        "colab_type": "text"
      },
      "source": [
        "<a href=\"https://colab.research.google.com/github/asepmuhidin/mk-python/blob/master/matematika_kripto_.ipynb\" target=\"_parent\"><img src=\"https://colab.research.google.com/assets/colab-badge.svg\" alt=\"Open In Colab\"/></a>"
      ]
    },
    {
      "cell_type": "code",
      "metadata": {
        "colab": {
          "base_uri": "https://localhost:8080/"
        },
        "id": "M3BzDsQIjbs3",
        "outputId": "8292bcb6-17c7-426a-9c1e-032b126af117"
      },
      "source": [
        "a,b=72,14\n",
        "\n",
        "kondisi=True\n",
        "while kondisi :\n",
        "  r=a%b\n",
        "  if r==0:\n",
        "    break\n",
        "  a=b\n",
        "  b=r  \n",
        "\n",
        "print(f\"GCD={b}\")"
      ],
      "execution_count": 2,
      "outputs": [
        {
          "output_type": "stream",
          "name": "stdout",
          "text": [
            "GCD=2\n"
          ]
        }
      ]
    },
    {
      "cell_type": "code",
      "metadata": {
        "id": "pjUvG8xRk_Mm"
      },
      "source": [
        "def mygcd(a,b):\n",
        "  kondisi=True\n",
        "  while kondisi :\n",
        "    r=a%b\n",
        "    if r==0:\n",
        "      break\n",
        "    a=b\n",
        "    b=r\n",
        "  return b"
      ],
      "execution_count": 9,
      "outputs": []
    },
    {
      "cell_type": "code",
      "metadata": {
        "colab": {
          "base_uri": "https://localhost:8080/"
        },
        "id": "1yslO6orkm35",
        "outputId": "0e912a2d-237b-41a6-bf26-511c3f048115"
      },
      "source": [
        "import math\n",
        "print(math.gcd(72,14))"
      ],
      "execution_count": 6,
      "outputs": [
        {
          "output_type": "stream",
          "name": "stdout",
          "text": [
            "2\n"
          ]
        }
      ]
    },
    {
      "cell_type": "code",
      "metadata": {
        "colab": {
          "base_uri": "https://localhost:8080/"
        },
        "id": "IqHw4N4ZlRq-",
        "outputId": "175c434f-de32-4445-a286-c1f09f14462f"
      },
      "source": [
        "print(mygcd(72,14))"
      ],
      "execution_count": 10,
      "outputs": [
        {
          "output_type": "stream",
          "name": "stdout",
          "text": [
            "2\n"
          ]
        }
      ]
    },
    {
      "cell_type": "code",
      "metadata": {
        "colab": {
          "base_uri": "https://localhost:8080/"
        },
        "id": "ElQ8yPOete4O",
        "outputId": "b1a449d7-2f3d-4d2c-8689-edd40c2d24c3"
      },
      "source": [
        "for i in range(65,65+26,1):\n",
        "  print(f\"\\\"{chr(i)}\\\"\", end=\",\")"
      ],
      "execution_count": 12,
      "outputs": [
        {
          "output_type": "stream",
          "name": "stdout",
          "text": [
            "\"A\",\"B\",\"C\",\"D\",\"E\",\"F\",\"G\",\"H\",\"I\",\"J\",\"K\",\"L\",\"M\",\"N\",\"O\",\"P\",\"Q\",\"R\",\"S\",\"T\",\"U\",\"V\",\"W\",\"X\",\"Y\",\"Z\","
          ]
        }
      ]
    },
    {
      "cell_type": "code",
      "metadata": {
        "id": "ATPU6R59t83y"
      },
      "source": [
        "abjad=[\"A\",\"B\",\"C\",\"D\",\"E\",\"F\",\"G\",\"H\",\"I\",\"J\",\"K\",\"L\",\"M\",\"N\",\"O\",\"P\",\"Q\",\"R\",\"S\",\"T\",\"U\",\"V\",\"W\",\"X\",\"Y\",\"Z\"]"
      ],
      "execution_count": 13,
      "outputs": []
    },
    {
      "cell_type": "code",
      "metadata": {
        "colab": {
          "base_uri": "https://localhost:8080/",
          "height": 35
        },
        "id": "ayibVGl4uH_A",
        "outputId": "b933f3bf-bd1c-4dcf-f3ed-3591be491604"
      },
      "source": [
        "#enkripsi dari hurup A\n",
        "c=(abjad.index(\"A\")+3)%26\n",
        "abjad[c]"
      ],
      "execution_count": 15,
      "outputs": [
        {
          "output_type": "execute_result",
          "data": {
            "application/vnd.google.colaboratory.intrinsic+json": {
              "type": "string"
            },
            "text/plain": [
              "'D'"
            ]
          },
          "metadata": {},
          "execution_count": 15
        }
      ]
    },
    {
      "cell_type": "code",
      "metadata": {
        "colab": {
          "base_uri": "https://localhost:8080/"
        },
        "id": "pGUeXhdouhrw",
        "outputId": "08583316-1dbd-4aef-bbfe-74d89eedb26c"
      },
      "source": [
        "pesan =\"Serang Malaysia\"\n",
        "\n",
        "for p in pesan.upper():\n",
        "  if p==\" \":\n",
        "    enkripsi +=p\n",
        "  else:    \n",
        "    c=(abjad.index(p)+3) % 26\n",
        "    enkripsi +=abjad[c]\n",
        "\n",
        "print(enkripsi)"
      ],
      "execution_count": 25,
      "outputs": [
        {
          "output_type": "stream",
          "name": "stdout",
          "text": [
            "VHUDQJVHUDQJ PDODBVLD\n"
          ]
        }
      ]
    }
  ]
}
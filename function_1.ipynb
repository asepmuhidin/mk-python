{
  "nbformat": 4,
  "nbformat_minor": 0,
  "metadata": {
    "colab": {
      "name": "function_1.ipynb",
      "provenance": [],
      "authorship_tag": "ABX9TyMMzW95OWRUKyOY0clX9VOe",
      "include_colab_link": true
    },
    "kernelspec": {
      "name": "python3",
      "display_name": "Python 3"
    },
    "language_info": {
      "name": "python"
    }
  },
  "cells": [
    {
      "cell_type": "markdown",
      "metadata": {
        "id": "view-in-github",
        "colab_type": "text"
      },
      "source": [
        "<a href=\"https://colab.research.google.com/github/asepmuhidin/mk-python/blob/master/function_1.ipynb\" target=\"_parent\"><img src=\"https://colab.research.google.com/assets/colab-badge.svg\" alt=\"Open In Colab\"/></a>"
      ]
    },
    {
      "cell_type": "code",
      "metadata": {
        "id": "Z_lsNUXhVUmB",
        "colab": {
          "base_uri": "https://localhost:8080/"
        },
        "outputId": "c26e6ec6-6026-48f4-ea51-7a6afc64166a"
      },
      "source": [
        "#while (kondisi):\n",
        "#  <stat_loop>\n",
        "\n",
        "n=1\n",
        "while (n<=5):\n",
        "  print(f\"{n}.Hello\")\n",
        "  n +=1 \n",
        "\n",
        "print(\"ini di luar loop\")"
      ],
      "execution_count": 2,
      "outputs": [
        {
          "output_type": "stream",
          "name": "stdout",
          "text": [
            "1.Hello\n",
            "2.Hello\n",
            "3.Hello\n",
            "4.Hello\n",
            "5.Hello\n",
            "ini di luar loop\n"
          ]
        }
      ]
    },
    {
      "cell_type": "code",
      "metadata": {
        "id": "KZun_Ys9YexM"
      },
      "source": [
        "import random as rnd"
      ],
      "execution_count": 5,
      "outputs": []
    },
    {
      "cell_type": "code",
      "metadata": {
        "colab": {
          "base_uri": "https://localhost:8080/"
        },
        "id": "8oyHmqHXYjmR",
        "outputId": "2fc4458d-7093-4e5e-e935-2c1791ea55b7"
      },
      "source": [
        "rnd.randint(-20,1)"
      ],
      "execution_count": 25,
      "outputs": [
        {
          "output_type": "execute_result",
          "data": {
            "text/plain": [
              "-9"
            ]
          },
          "metadata": {},
          "execution_count": 25
        }
      ]
    },
    {
      "cell_type": "code",
      "metadata": {
        "id": "dRwen0TNZIBK"
      },
      "source": [
        "angka=rnd.randint(1,20)\n",
        "jawaban=False\n",
        "jum_tebakan=0\n",
        "while (not jawaban):\n",
        "  tebakan=int(input(\"Masukan angka tebakan anda ?\"))\n",
        "  if tebakan < angka:\n",
        "    print(\"Angka tebakan anda lebih kecil, silahkan coba lagi..!!\")\n",
        "  elif tebakan > angka:\n",
        "    print(\"Angka tebakan anda lebih besar, silahkan coba lagi..!!\") \n",
        "  else :\n",
        "    print(f\"Selamat, Anda berhasil menebak angka yaitu {angka}!!\")\n",
        "    jawaban=True   \n",
        "  jum_tebakan +=1\n",
        "\n",
        "\n",
        "if jum_tebakan >=7:\n",
        "  grade=\"Tidak pintar\"\n",
        "elif jum_tebakan >=5 :\n",
        "  grade=\"Lumayan\"\n",
        "else:\n",
        "  grade=\"Jenius\"\n",
        "\n",
        "print(f\"Anda termasuk orang {grade}, anda menebak sebanyak {jum_tebakan} \")\n"
      ],
      "execution_count": null,
      "outputs": []
    },
    {
      "cell_type": "code",
      "metadata": {
        "id": "jg5ji3E9czMW"
      },
      "source": [
        "#def funct_name(parameter):\n",
        "def say_hello(pesan):\n",
        "  print(pesan)"
      ],
      "execution_count": 28,
      "outputs": []
    },
    {
      "cell_type": "code",
      "metadata": {
        "colab": {
          "base_uri": "https://localhost:8080/"
        },
        "id": "NqjVvBbDdOqZ",
        "outputId": "755fe045-6e26-4cac-8397-4a3ce0cae6d0"
      },
      "source": [
        "say_hello(\"Helo apa kabar\")"
      ],
      "execution_count": 30,
      "outputs": [
        {
          "output_type": "stream",
          "name": "stdout",
          "text": [
            "Helo apa kabar\n"
          ]
        }
      ]
    },
    {
      "cell_type": "code",
      "metadata": {
        "id": "pSlH3z7gdjGg"
      },
      "source": [
        "def say_hello():\n",
        "  return \"Hello\"\n"
      ],
      "execution_count": 31,
      "outputs": []
    },
    {
      "cell_type": "code",
      "metadata": {
        "colab": {
          "base_uri": "https://localhost:8080/"
        },
        "id": "aCm7-kfKdo5D",
        "outputId": "8b744f84-f263-471c-95f4-8f4179b3300f"
      },
      "source": [
        "print(say_hello()+\" apa kabar\")"
      ],
      "execution_count": 35,
      "outputs": [
        {
          "output_type": "stream",
          "name": "stdout",
          "text": [
            "Hello apa kabar\n"
          ]
        }
      ]
    },
    {
      "cell_type": "code",
      "metadata": {
        "id": "1JdVe9zdd7TB"
      },
      "source": [
        "def jumlahkan(a,b):\n",
        "  return a+b"
      ],
      "execution_count": 36,
      "outputs": []
    },
    {
      "cell_type": "code",
      "metadata": {
        "colab": {
          "base_uri": "https://localhost:8080/"
        },
        "id": "VaPhQuo0eCBB",
        "outputId": "852cf68a-c723-4ab5-ce0a-c1e5cd0e3bed"
      },
      "source": [
        "print(f\"5+8={jumlahkan(5,8)}\")"
      ],
      "execution_count": 37,
      "outputs": [
        {
          "output_type": "stream",
          "name": "stdout",
          "text": [
            "5+8=13\n"
          ]
        }
      ]
    },
    {
      "cell_type": "code",
      "metadata": {
        "colab": {
          "base_uri": "https://localhost:8080/"
        },
        "id": "ClBuZQJWecGS",
        "outputId": "3d43d270-ba8d-4242-d43e-a01c54a451c2"
      },
      "source": [
        "x,z=90,30\n",
        "hasil=jumlahkan(x,z)\n",
        "print(hasil)"
      ],
      "execution_count": 38,
      "outputs": [
        {
          "output_type": "stream",
          "name": "stdout",
          "text": [
            "120\n"
          ]
        }
      ]
    },
    {
      "cell_type": "code",
      "metadata": {
        "id": "9DOkhpIUe7Us"
      },
      "source": [
        "import math\n",
        "def x(a,b,c):\n",
        "  d=b**2-(4*a*c)\n",
        "  if d>=0:\n",
        "    x1=(-b+math.sqrt(d))/(2*a)\n",
        "    x2=(-b-math.sqrt(d))/(2*a)\n",
        "    return x1,x2\n",
        "  else:\n",
        "    return \"imajiner\", \"imajiner\""
      ],
      "execution_count": 53,
      "outputs": []
    },
    {
      "cell_type": "code",
      "metadata": {
        "colab": {
          "base_uri": "https://localhost:8080/"
        },
        "id": "P96NQAGTf8ks",
        "outputId": "55f1bba5-2eb7-45f5-f0de-8fdac8f30516"
      },
      "source": [
        "a,b,c=1,6,-8\n",
        "x_1,x_2=x(a,b,c)\n",
        "print(f\"x1={x_1} dan x2={x_2}\")"
      ],
      "execution_count": 55,
      "outputs": [
        {
          "output_type": "stream",
          "name": "stdout",
          "text": [
            "x1=1.1231056256176606 dan x2=-7.123105625617661\n"
          ]
        }
      ]
    },
    {
      "cell_type": "code",
      "metadata": {
        "id": "tk0sREqKj5ra"
      },
      "source": [
        "def pangkat(a,b):\n",
        "  hasil=1\n",
        "  for i in range(b):\n",
        "    hasil *=a\n",
        "  return hasil  "
      ],
      "execution_count": 56,
      "outputs": []
    },
    {
      "cell_type": "code",
      "metadata": {
        "colab": {
          "base_uri": "https://localhost:8080/"
        },
        "id": "-ndsT592l7I9",
        "outputId": "c2bae1e6-9a81-4339-f5c8-cc24b49273d2"
      },
      "source": [
        "print(f\"4 pangkat 3 adalah {pangkat(4,3)}\")"
      ],
      "execution_count": 57,
      "outputs": [
        {
          "output_type": "stream",
          "name": "stdout",
          "text": [
            "4 pangkat 3 adalah 64\n"
          ]
        }
      ]
    },
    {
      "cell_type": "code",
      "metadata": {
        "id": "HKNsRL2ZnaH-"
      },
      "source": [
        "def jamLembur(aktual):\n",
        "  return 1.5+((aktual-1)*2)\n",
        "\n",
        "def upahLembur(gapok,jLembur):\n",
        "  return (jLembur * gapok) / 122"
      ],
      "execution_count": 60,
      "outputs": []
    },
    {
      "cell_type": "code",
      "metadata": {
        "colab": {
          "base_uri": "https://localhost:8080/"
        },
        "id": "Gx1ZcecjnkTF",
        "outputId": "3d7babad-18cd-438d-81d0-3a2410a52f74"
      },
      "source": [
        "jamlembur=int(input(\"Masukan jam aktual lembur anda ? \"))\n",
        "aktual=jamLembur(jamlembur)\n",
        "gpokok=5000000\n",
        "upah=upahLembur(gpokok,aktual)\n",
        "print(f\"Jam lembur anda selama {jamlembur} adalah {aktual} \\ndan upah lembur anda adalah {upah} \")"
      ],
      "execution_count": 63,
      "outputs": [
        {
          "output_type": "stream",
          "name": "stdout",
          "text": [
            "Masukan jam aktual lembur anda ? 10\n",
            "Jam lembur anda selama 10 adalah 19.5 \n",
            "dan upah lembur anda adalah 799180.3278688524 \n"
          ]
        }
      ]
    }
  ]
}
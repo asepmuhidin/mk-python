{
  "nbformat": 4,
  "nbformat_minor": 0,
  "metadata": {
    "colab": {
      "name": "Markdown-numpy-matplotlib .ipynb",
      "provenance": [],
      "authorship_tag": "ABX9TyMGuebZS37bdXAfGMJGOp3z",
      "include_colab_link": true
    },
    "kernelspec": {
      "name": "python3",
      "display_name": "Python 3"
    }
  },
  "cells": [
    {
      "cell_type": "markdown",
      "metadata": {
        "id": "view-in-github",
        "colab_type": "text"
      },
      "source": [
        "<a href=\"https://colab.research.google.com/github/asepmuhidin/mk-python/blob/master/Markdown_numpy_matplotlib_.ipynb\" target=\"_parent\"><img src=\"https://colab.research.google.com/assets/colab-badge.svg\" alt=\"Open In Colab\"/></a>"
      ]
    },
    {
      "cell_type": "markdown",
      "metadata": {
        "id": "zzSPS8g9QmJU"
      },
      "source": [
        "## Created by Asep Muhidin, UPB, 201020\n",
        "## Grafik Persamaan kuadrat ##\n",
        "## Rumus : $ax^2$+bx+c=0 ##\n",
        "## d=$b^2$-4ac ##\n",
        "## $x_{1,2} = \\frac{-b \\pm \\sqrt{d}}{2a}$ ##  \n",
        "## Contoh :  $x^2$ - 2x - 15 = 0 ; a= 1, b=-2, c =-15 ##\n",
        "\n",
        "## d=$(-2)^2$-4.(1).(-15)=4+60 = 64 ##\n",
        "## $x_{1}=\\frac{-(-2)+\\sqrt{64}}{2.1} =\\frac{2+8}{2}=5 $ ##\n",
        "## $x_{2}=\\frac{-(-2)-\\sqrt{64}}{2.1} =\\frac{2-8}{2}=-3 $ ##\n"
      ]
    },
    {
      "cell_type": "code",
      "metadata": {
        "id": "RChO1enDaa1B"
      },
      "source": [
        "import math\n",
        "def d(a,b,c):\n",
        "  return b**2-(4*a*c)\n",
        "\n",
        "def x(a,b,d):\n",
        "  return ((-b+math.sqrt(d))/(2*a),(-b-math.sqrt(d))/(2*a))"
      ],
      "execution_count": 1,
      "outputs": []
    },
    {
      "cell_type": "code",
      "metadata": {
        "id": "Q20UNQejbCOo",
        "colab": {
          "base_uri": "https://localhost:8080/"
        },
        "outputId": "6699ed85-9268-4288-9456-3c98590313b4"
      },
      "source": [
        "a,b,c=1,-2,-15\n",
        "det=d(a,b,c)\n",
        "x1,x2=x(a,b,det)\n",
        "print(\"x1={}, x2={}\".format(x1,x2))"
      ],
      "execution_count": 2,
      "outputs": [
        {
          "output_type": "stream",
          "text": [
            "x1=5.0, x2=-3.0\n"
          ],
          "name": "stdout"
        }
      ]
    },
    {
      "cell_type": "code",
      "metadata": {
        "id": "55E_Jy-_dXGs"
      },
      "source": [
        "import numpy as np\n",
        "import matplotlib.pyplot as plt"
      ],
      "execution_count": 4,
      "outputs": []
    },
    {
      "cell_type": "code",
      "metadata": {
        "id": "9dewP5Y-dc2u"
      },
      "source": [
        "x=np.arange(-3.0,5.1,0.1)\n",
        "y=x**2-(2*x)-15"
      ],
      "execution_count": 11,
      "outputs": []
    },
    {
      "cell_type": "code",
      "metadata": {
        "id": "-I2UYzzVeqDa",
        "colab": {
          "base_uri": "https://localhost:8080/",
          "height": 411
        },
        "outputId": "1f10f190-1ab6-45f5-e307-b1b288e621de"
      },
      "source": [
        "fig=plt.figure(figsize=(8,5))\n",
        "axs=fig.add_axes([0.1,0.1,1,1])\n",
        "axs.set_title('Grafik persamaan kuadrat :'+ r'$\\ x^{2} - 2x - 15 = 0 $')\n",
        "axs.spines['left'].set_position(('data',0.0))\n",
        "axs.spines['bottom'].set_position(('data',0.0))\n",
        "axs.spines['right'].set_color('none')\n",
        "axs.spines['top'].set_color('none')\n",
        "axs.xaxis.set_ticks_position('bottom')\n",
        "axs.yaxis.set_ticks_position('left')\n",
        "axs.set_ylabel('Y')\n",
        "axs.set_xlabel('X')\n",
        "axs.plot(x,y,c='b',marker='o')\n",
        "plt.show();"
      ],
      "execution_count": 12,
      "outputs": [
        {
          "output_type": "display_data",
          "data": {
            "image/png": "[encoded data removed]",
            "text/plain": [
              "<Figure size 576x360 with 1 Axes>"
            ]
          },
          "metadata": {
            "tags": [],
            "needs_background": "light"
          }
        }
      ]
    }
  ]
}
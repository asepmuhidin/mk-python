{
  "nbformat": 4,
  "nbformat_minor": 0,
  "metadata": {
    "colab": {
      "name": "kasus_kondisi_looping.ipynb",
      "provenance": [],
      "authorship_tag": "ABX9TyM5IL/gA5tRpQxBUwdntnc/",
      "include_colab_link": true
    },
    "kernelspec": {
      "name": "python3",
      "display_name": "Python 3"
    }
  },
  "cells": [
    {
      "cell_type": "markdown",
      "metadata": {
        "id": "view-in-github",
        "colab_type": "text"
      },
      "source": [
        "<a href=\"https://colab.research.google.com/github/asepmuhidin/mk-python/blob/master/kasus_kondisi_looping.ipynb\" target=\"_parent\"><img src=\"https://colab.research.google.com/assets/colab-badge.svg\" alt=\"Open In Colab\"/></a>"
      ]
    },
    {
      "cell_type": "code",
      "metadata": {
        "id": "4pq5C9tWFjRN"
      },
      "source": [
        "benar=False\n",
        "while not benar:\n",
        "  tahun=int(input(\"Masukan tahun antara 1900 s.d 2020 ?\"))\n",
        "  if tahun >=1900 and tahun <= 2020:\n",
        "    if tahun % 4 == 0 :\n",
        "      print ('{} adalah tahun kabisat'. format(tahun))\n",
        "    else:\n",
        "      print ('{} adalah bukan tahun kabisat'. format(tahun))  \n",
        "    \n",
        "    benar=True\n",
        "  else :\n",
        "    print(\"Tahun yang anda masukan salah..\")    "
      ],
      "execution_count": null,
      "outputs": []
    },
    {
      "cell_type": "code",
      "metadata": {
        "colab": {
          "base_uri": "https://localhost:8080/"
        },
        "id": "TiHiSGcdLPHn",
        "outputId": "bc1af9fb-0885-4874-86c8-d99c580bdbaa"
      },
      "source": [
        "bil,n,i=2,5,1\n",
        "while i<=n :\n",
        "  if bil%2==0 :\n",
        "    if bil%4 == 0 :\n",
        "      bil +=1\n",
        "    else:\n",
        "      print(bil, end=',')\n",
        "      i +=1\n",
        "      bil +=1  \n",
        "  else:\n",
        "    bil +=1"
      ],
      "execution_count": 11,
      "outputs": [
        {
          "output_type": "stream",
          "text": [
            "2,6,10,14,18,"
          ],
          "name": "stdout"
        }
      ]
    },
    {
      "cell_type": "code",
      "metadata": {
        "colab": {
          "base_uri": "https://localhost:8080/"
        },
        "id": "H-TGAiVKNluR",
        "outputId": "e4a40949-092b-44ad-ade1-656c2389ac7f"
      },
      "source": [
        "bil,n,i=2,5,1\n",
        "while i<=n :\n",
        "  if bil%2==0 and not bil%4 == 0 :\n",
        "      print(bil, end=',')\n",
        "      i +=1\n",
        "  bil +=1"
      ],
      "execution_count": 14,
      "outputs": [
        {
          "output_type": "stream",
          "text": [
            "2,6,10,14,18,"
          ],
          "name": "stdout"
        }
      ]
    }
  ]
}
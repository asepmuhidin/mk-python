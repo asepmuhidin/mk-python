{
  "nbformat": 4,
  "nbformat_minor": 0,
  "metadata": {
    "colab": {
      "name": "Untitled7.ipynb",
      "provenance": [],
      "authorship_tag": "ABX9TyOrfVrfLOLqP2A2nZFNMRVe",
      "include_colab_link": true
    },
    "kernelspec": {
      "name": "python3",
      "display_name": "Python 3"
    },
    "language_info": {
      "name": "python"
    }
  },
  "cells": [
    {
      "cell_type": "markdown",
      "metadata": {
        "id": "view-in-github",
        "colab_type": "text"
      },
      "source": [
        "<a href=\"https://colab.research.google.com/github/asepmuhidin/mk-python/blob/master/looping2.ipynb\" target=\"_parent\"><img src=\"https://colab.research.google.com/assets/colab-badge.svg\" alt=\"Open In Colab\"/></a>"
      ]
    },
    {
      "cell_type": "markdown",
      "metadata": {
        "id": "rA_46NVISpBs"
      },
      "source": [
        "# Looping dengan For\n"
      ]
    },
    {
      "cell_type": "code",
      "metadata": {
        "colab": {
          "base_uri": "https://localhost:8080/"
        },
        "id": "5PHgadHSSnXL",
        "outputId": "97c61849-e62a-4736-c130-23880ccfbf8a"
      },
      "source": [
        "for i in range(5):\n",
        "  print(\"hello\")"
      ],
      "execution_count": 1,
      "outputs": [
        {
          "output_type": "stream",
          "name": "stdout",
          "text": [
            "hello\n",
            "hello\n",
            "hello\n",
            "hello\n",
            "hello\n"
          ]
        }
      ]
    },
    {
      "cell_type": "code",
      "metadata": {
        "colab": {
          "base_uri": "https://localhost:8080/"
        },
        "id": "GJSsKDheTMP9",
        "outputId": "99b10fbd-2ce7-405e-c38f-7c498ee30768"
      },
      "source": [
        "for i in range(5):\n",
        "  print(i)"
      ],
      "execution_count": 2,
      "outputs": [
        {
          "output_type": "stream",
          "name": "stdout",
          "text": [
            "0\n",
            "1\n",
            "2\n",
            "3\n",
            "4\n"
          ]
        }
      ]
    },
    {
      "cell_type": "code",
      "metadata": {
        "colab": {
          "base_uri": "https://localhost:8080/"
        },
        "id": "wtapgtJjTaR8",
        "outputId": "9c26df12-0d8e-49e5-ceee-ec4d0e2cdc74"
      },
      "source": [
        "for i in range(1,11):\n",
        "  print(f\"{i}.hello\")"
      ],
      "execution_count": 3,
      "outputs": [
        {
          "output_type": "stream",
          "name": "stdout",
          "text": [
            "1.hello\n",
            "2.hello\n",
            "3.hello\n",
            "4.hello\n",
            "5.hello\n",
            "6.hello\n",
            "7.hello\n",
            "8.hello\n",
            "9.hello\n",
            "10.hello\n"
          ]
        }
      ]
    },
    {
      "cell_type": "code",
      "metadata": {
        "colab": {
          "base_uri": "https://localhost:8080/"
        },
        "id": "AJuRK_Q1Tot2",
        "outputId": "6db905d1-61ea-42fe-8a04-f198c5bad314"
      },
      "source": [
        "for i in range(1,11,2):\n",
        "  print(f\"{i}. hello\")"
      ],
      "execution_count": 5,
      "outputs": [
        {
          "output_type": "stream",
          "name": "stdout",
          "text": [
            "1. hello\n",
            "3. hello\n",
            "5. hello\n",
            "7. hello\n",
            "9. hello\n"
          ]
        }
      ]
    },
    {
      "cell_type": "code",
      "metadata": {
        "colab": {
          "base_uri": "https://localhost:8080/"
        },
        "id": "R-x6Kt1EUg2X",
        "outputId": "58876eb9-cc6a-42d9-cfa5-bb5f7b641b4e"
      },
      "source": [
        "#untuk looping negatif/menurun\n",
        "for i in range(5,1,-1):\n",
        "  print(f\"{i}. hello\")"
      ],
      "execution_count": 6,
      "outputs": [
        {
          "output_type": "stream",
          "name": "stdout",
          "text": [
            "5. hello\n",
            "4. hello\n",
            "3. hello\n",
            "2. hello\n"
          ]
        }
      ]
    },
    {
      "cell_type": "code",
      "metadata": {
        "colab": {
          "base_uri": "https://localhost:8080/"
        },
        "id": "r58vn1FoUu8w",
        "outputId": "49a6b895-f507-4f8d-ee07-63070742696d"
      },
      "source": [
        "#looping juga bisa digunakan untuk menghitung perkalian\n",
        "# 4 x 5 = 4 + 4 + 4 + 4 + 4\n",
        "hasil =0\n",
        "kali,pengali=4,5\n",
        "for i in range(pengali):\n",
        "  hasil +=kali    #shortcut dari hasil = hasil + kali, inget operator sebelumnya\n",
        "\n",
        "print(f\"{kali} x {pengali} = {hasil}\")\n"
      ],
      "execution_count": 7,
      "outputs": [
        {
          "output_type": "stream",
          "name": "stdout",
          "text": [
            "4 x 5 = 20\n"
          ]
        }
      ]
    },
    {
      "cell_type": "code",
      "metadata": {
        "colab": {
          "base_uri": "https://localhost:8080/"
        },
        "id": "BxzuQmMHVztW",
        "outputId": "68d049b2-53cf-4dab-e6c5-4cf353df4f4a"
      },
      "source": [
        "#coba buat program untuk perpangkatan menggunakan looping,kerjakan di codepile\n",
        "# 4 pangkat 3 = 4 x 4 x 4  \n",
        "\n",
        "\n",
        "# Dhaffa Ardhana\n",
        "hasil = 1\n",
        "angka, pangkat = 4,3\n",
        "\n",
        "for x in range(pangkat):\n",
        "\thasil *= angka\n",
        "\n",
        "print(f\"{angka} pangkat {pangkat} = {hasil}\")"
      ],
      "execution_count": 8,
      "outputs": [
        {
          "output_type": "stream",
          "name": "stdout",
          "text": [
            "4 pangkat 3 = 64\n"
          ]
        }
      ]
    },
    {
      "cell_type": "code",
      "metadata": {
        "colab": {
          "base_uri": "https://localhost:8080/"
        },
        "id": "ml0dZOP4Ym1I",
        "outputId": "adf01776-de38-4453-9407-3939bfa36a79"
      },
      "source": [
        "#Buat program menghitung nilai faktorial\n",
        "#contoh Faktorial 5 atau biasa ditulis dengan 5!=1x2x3x4x5\n",
        "\n",
        "#AHMAD SARIF\n",
        "#Pak ini saya pake cara beda kok bisa ya?\n",
        "# 4 ^ 5 = 4 x 4 x 4 x 4 x 4\n",
        "\n",
        "hasil =0\n",
        "angka,pengangkat=4,5\n",
        "for i in range(pengangkat):\n",
        "  hasil=angka**pengangkat    #shortcut dari hasil = angka ^ pengangkat, inget operator sebelumnya\n",
        "\n",
        "print(f\"{angka} ^ {pengangkat} = {hasil}\")\n",
        "\n",
        "\n",
        "# Dhaffa Ardhana faktorial 5\n",
        "hasil = 1\n",
        "faktorial = 5\n",
        "\n",
        "for e in range(1, faktorial+1):\n",
        "\thasil *= e\n",
        "\n",
        "print(f\"faktorial {faktorial} = {hasil}\")\n"
      ],
      "execution_count": 9,
      "outputs": [
        {
          "output_type": "stream",
          "name": "stdout",
          "text": [
            "4 ^ 5 = 1024\n",
            "faktorial 5 = 120\n"
          ]
        }
      ]
    },
    {
      "cell_type": "code",
      "metadata": {
        "colab": {
          "base_uri": "https://localhost:8080/"
        },
        "id": "k69hGemBciLk",
        "outputId": "872ffb66-c528-456f-d112-7b3b0cab81da"
      },
      "source": [
        "#masih inget dengan persamaan kuadrat kemarin?\n",
        "#inget untuk loop for hanya berlaku untuk bilangan integer (bulat)\n",
        "i=0\n",
        "while i <=5 :\n",
        "  print(i)\n",
        "  i +=0.1"
      ],
      "execution_count": 11,
      "outputs": [
        {
          "output_type": "stream",
          "name": "stdout",
          "text": [
            "0\n",
            "0.1\n",
            "0.2\n",
            "0.30000000000000004\n",
            "0.4\n",
            "0.5\n",
            "0.6\n",
            "0.7\n",
            "0.7999999999999999\n",
            "0.8999999999999999\n",
            "0.9999999999999999\n",
            "1.0999999999999999\n",
            "1.2\n",
            "1.3\n",
            "1.4000000000000001\n",
            "1.5000000000000002\n",
            "1.6000000000000003\n",
            "1.7000000000000004\n",
            "1.8000000000000005\n",
            "1.9000000000000006\n",
            "2.0000000000000004\n",
            "2.1000000000000005\n",
            "2.2000000000000006\n",
            "2.3000000000000007\n",
            "2.400000000000001\n",
            "2.500000000000001\n",
            "2.600000000000001\n",
            "2.700000000000001\n",
            "2.800000000000001\n",
            "2.9000000000000012\n",
            "3.0000000000000013\n",
            "3.1000000000000014\n",
            "3.2000000000000015\n",
            "3.3000000000000016\n",
            "3.4000000000000017\n",
            "3.5000000000000018\n",
            "3.600000000000002\n",
            "3.700000000000002\n",
            "3.800000000000002\n",
            "3.900000000000002\n",
            "4.000000000000002\n",
            "4.100000000000001\n",
            "4.200000000000001\n",
            "4.300000000000001\n",
            "4.4\n",
            "4.5\n",
            "4.6\n",
            "4.699999999999999\n",
            "4.799999999999999\n",
            "4.899999999999999\n",
            "4.999999999999998\n"
          ]
        }
      ]
    },
    {
      "cell_type": "code",
      "metadata": {
        "colab": {
          "base_uri": "https://localhost:8080/",
          "height": 180
        },
        "id": "u7xA_YFOdk08",
        "outputId": "7c753275-abc2-4628-faa2-042a95ba31a2"
      },
      "source": [
        "for i in range(0,5,0.1):\n",
        "  print(i)"
      ],
      "execution_count": 12,
      "outputs": [
        {
          "output_type": "error",
          "ename": "TypeError",
          "evalue": "ignored",
          "traceback": [
            "\u001b[0;31m---------------------------------------------------------------------------\u001b[0m",
            "\u001b[0;31mTypeError\u001b[0m                                 Traceback (most recent call last)",
            "\u001b[0;32m<ipython-input-12-a0a220394096>\u001b[0m in \u001b[0;36m<module>\u001b[0;34m()\u001b[0m\n\u001b[0;32m----> 1\u001b[0;31m \u001b[0;32mfor\u001b[0m \u001b[0mi\u001b[0m \u001b[0;32min\u001b[0m \u001b[0mrange\u001b[0m\u001b[0;34m(\u001b[0m\u001b[0;36m0\u001b[0m\u001b[0;34m,\u001b[0m\u001b[0;36m5\u001b[0m\u001b[0;34m,\u001b[0m\u001b[0;36m0.1\u001b[0m\u001b[0;34m)\u001b[0m\u001b[0;34m:\u001b[0m\u001b[0;34m\u001b[0m\u001b[0;34m\u001b[0m\u001b[0m\n\u001b[0m\u001b[1;32m      2\u001b[0m   \u001b[0mprint\u001b[0m\u001b[0;34m(\u001b[0m\u001b[0mi\u001b[0m\u001b[0;34m)\u001b[0m\u001b[0;34m\u001b[0m\u001b[0;34m\u001b[0m\u001b[0m\n",
            "\u001b[0;31mTypeError\u001b[0m: 'float' object cannot be interpreted as an integer"
          ]
        }
      ]
    },
    {
      "cell_type": "code",
      "metadata": {
        "id": "_y-R5F_JdgJn"
      },
      "source": [
        "#Error karena for hanya untuk bilangan bulat saja\n"
      ],
      "execution_count": null,
      "outputs": []
    },
    {
      "cell_type": "code",
      "metadata": {
        "colab": {
          "base_uri": "https://localhost:8080/"
        },
        "id": "SMsCEiJYdvlD",
        "outputId": "bbf243eb-3e29-49db-e6f8-a9d4b55540d6"
      },
      "source": [
        "#(x+4)(x-3)=x^2-3x+4x-12=x^2+x-12\n",
        "import math\n",
        "a,b,c=1,1,-12\n",
        "d=b**2-(4*a*c)\n",
        "x1,x2 =(b+math.sqrt(d))/(2*a),(b-math.sqrt(d))/(2*a)\n",
        "print(x1,x2)"
      ],
      "execution_count": 14,
      "outputs": [
        {
          "output_type": "stream",
          "name": "stdout",
          "text": [
            "4.0 -3.0\n"
          ]
        }
      ]
    },
    {
      "cell_type": "code",
      "metadata": {
        "colab": {
          "base_uri": "https://localhost:8080/",
          "height": 282
        },
        "id": "4MuZfJ5geVTy",
        "outputId": "5819cc34-9c14-4369-ef90-39015d98a1e5"
      },
      "source": [
        "#kita akan buat grafik persamaan tersebut dengan mengambil nilai x antar -3 sd 4\n",
        "#kita simpan dalam sebuah list,list nanti akan saya bahas di sesi berikutnya\n",
        "x=[]   ##ini inisialisasi list x\n",
        "i=-3   #nilai x1\n",
        "while (i <=4):  # nilai x2 sebagai batas\n",
        "  x.append(i)  #menambahkan nilai i ke x\n",
        "  i +=0.1 #menambahkan nilai i dengan 0.1\n",
        "\n",
        "#dapatkan nilai y dari rumus persamaan x^2+x-12, untuk tiap nilai x pada list\n",
        "y=[]\n",
        "for i in x:\n",
        "  y.append(i**2+i-12)  \n",
        "\n",
        "\n",
        "\n",
        "#import library matplotlib\n",
        "import matplotlib.pyplot as plt\n",
        "plt.plot(x,y)"
      ],
      "execution_count": 16,
      "outputs": [
        {
          "output_type": "execute_result",
          "data": {
            "text/plain": [
              "[<matplotlib.lines.Line2D at 0x7fee3ad85d10>]"
            ]
          },
          "metadata": {},
          "execution_count": 16
        },
        {
          "output_type": "display_data",
          "data": {
            "image/png": "[encoded data removed]",
            "text/plain": [
              "<Figure size 432x288 with 1 Axes>"
            ]
          },
          "metadata": {
            "needs_background": "light"
          }
        }
      ]
    },
    {
      "cell_type": "code",
      "metadata": {
        "id": "PTXTZ-_3f4kk"
      },
      "source": [
        "#sudah benar,  "
      ],
      "execution_count": null,
      "outputs": []
    }
  ]
}
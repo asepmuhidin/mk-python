{
  "nbformat": 4,
  "nbformat_minor": 0,
  "metadata": {
    "colab": {
      "name": "looping_game.ipynb",
      "provenance": [],
      "authorship_tag": "ABX9TyNSOfTnIeuhQAL5y90uwKiQ",
      "include_colab_link": true
    },
    "kernelspec": {
      "name": "python3",
      "display_name": "Python 3"
    }
  },
  "cells": [
    {
      "cell_type": "markdown",
      "metadata": {
        "id": "view-in-github",
        "colab_type": "text"
      },
      "source": [
        "<a href=\"https://colab.research.google.com/github/asepmuhidin/mk-python/blob/master/looping_game.ipynb\" target=\"_parent\"><img src=\"https://colab.research.google.com/assets/colab-badge.svg\" alt=\"Open In Colab\"/></a>"
      ]
    },
    {
      "cell_type": "code",
      "metadata": {
        "id": "NFcBt-hsWAlr"
      },
      "source": [
        "#menyelesaikan ax + bx - c = 0\n",
        "\n",
        "#import module matematika math\n",
        "import math\n",
        "\n",
        "a=int(input(\"Input a?\"))\n",
        "b=int(input(\"Input b?\"))\n",
        "c=int(input(\"input c?\"))\n",
        "\n",
        "#mencari HP\n",
        "d= (b**2)- (4*a*c)\n",
        "\n",
        "#mencari nilai x\n",
        "x1=(-b+math.sqrt(d))/ (2*a)\n",
        "x2=(-b-math.sqrt(d))/ (2*a)\n",
        "\n",
        "#mencari derteminan\n",
        "#d=b**2 - (4*a*c)\n",
        "if d==0:\n",
        "  jenis=\"akar kembar\"\n",
        "elif d<0:\n",
        "  jenis=\"imajiner\"\n",
        "else :\n",
        "  jenis=\"akar riil berlainan\" \n",
        "  \n",
        "print(\"X1= {0} dan X2= {1}\".format(x1, x2))\n",
        "print(\"Nilai Determinannya adalah\", d)\n",
        "print(\"Nilai x1,x2 merupakan jenis akar\", jenis)"
      ],
      "execution_count": null,
      "outputs": []
    },
    {
      "cell_type": "code",
      "metadata": {
        "id": "FvWk6lBLZJCG",
        "outputId": "81df039c-9e8f-4f76-a5f1-9c1a99e41054",
        "colab": {
          "base_uri": "https://localhost:8080/",
          "height": 105
        }
      },
      "source": [
        "##Perulangan FOR\n",
        "'''\n",
        "for i in range(jum_loop):\n",
        "  statement(s)\n",
        "'''\n",
        "\n",
        "for i in range(5) :\n",
        "  print(\"{}.hello...\".format(i))"
      ],
      "execution_count": 4,
      "outputs": [
        {
          "output_type": "stream",
          "text": [
            "0.hello...\n",
            "1.hello...\n",
            "2.hello...\n",
            "3.hello...\n",
            "4.hello...\n"
          ],
          "name": "stdout"
        }
      ]
    },
    {
      "cell_type": "code",
      "metadata": {
        "id": "z-jUeO2RaHD1",
        "outputId": "e3006cd0-32ad-4190-fc07-fa3397eef9e2",
        "colab": {
          "base_uri": "https://localhost:8080/",
          "height": 87
        }
      },
      "source": [
        "'''\n",
        "start : inclusive end:exclusive\n",
        "for i in range(start,end,step):\n",
        "  statement(s)\n",
        "'''\n",
        "\n",
        "for i in range(1,5,1):\n",
        "  print(\"{}. Hello\". format(i))"
      ],
      "execution_count": 5,
      "outputs": [
        {
          "output_type": "stream",
          "text": [
            "1. Hello\n",
            "2. Hello\n",
            "3. Hello\n",
            "4. Hello\n"
          ],
          "name": "stdout"
        }
      ]
    },
    {
      "cell_type": "code",
      "metadata": {
        "id": "lqpoTe0Ka6fM",
        "outputId": "640407bb-7592-4bde-fbd4-a683f1adc6b0",
        "colab": {
          "base_uri": "https://localhost:8080/",
          "height": 87
        }
      },
      "source": [
        "\n",
        "for i in range(1,5,1):\n",
        "  print(\"{} pangkat {}={} \". format(i,i,i**i))"
      ],
      "execution_count": 10,
      "outputs": [
        {
          "output_type": "stream",
          "text": [
            "1 pangkat 1=1 \n",
            "2 pangkat 2=4 \n",
            "3 pangkat 3=27 \n",
            "4 pangkat 4=256 \n"
          ],
          "name": "stdout"
        }
      ]
    },
    {
      "cell_type": "code",
      "metadata": {
        "id": "_xiWEASoclkD",
        "outputId": "eb913fa4-01fe-4f62-c816-baa406de0bb6",
        "colab": {
          "base_uri": "https://localhost:8080/",
          "height": 87
        }
      },
      "source": [
        "'''\n",
        "Perulangan while\n",
        "while (kondisi):\n",
        "  statement(s)\n",
        "'''\n",
        "i=1\n",
        "while (i<5):\n",
        "  print(\"{} pangkat {}={} \". format(i,i,i**i))\n",
        "  i+=1\n"
      ],
      "execution_count": 12,
      "outputs": [
        {
          "output_type": "stream",
          "text": [
            "1 pangkat 1=1 \n",
            "2 pangkat 2=4 \n",
            "3 pangkat 3=27 \n",
            "4 pangkat 4=256 \n"
          ],
          "name": "stdout"
        }
      ]
    },
    {
      "cell_type": "code",
      "metadata": {
        "id": "ihpDPadDeEOl",
        "outputId": "add1de14-2ccc-424e-89b0-0415ebd7979f",
        "colab": {
          "base_uri": "https://localhost:8080/",
          "height": 87
        }
      },
      "source": [
        "## output : 10 20 30 40\n",
        "for i in range(10, 41, 10):\n",
        "    print(i)"
      ],
      "execution_count": 13,
      "outputs": [
        {
          "output_type": "stream",
          "text": [
            "10\n",
            "20\n",
            "30\n",
            "40\n"
          ],
          "name": "stdout"
        }
      ]
    },
    {
      "cell_type": "code",
      "metadata": {
        "id": "PddnXPUefFjn",
        "outputId": "a17a9d42-d497-4f79-82a5-6d1462d613a2",
        "colab": {
          "base_uri": "https://localhost:8080/",
          "height": 34
        }
      },
      "source": [
        "for i in range(10,50,10):\n",
        "  print(\"{}\".format(i), end=\",\")"
      ],
      "execution_count": 22,
      "outputs": [
        {
          "output_type": "stream",
          "text": [
            "10,20,30,40,"
          ],
          "name": "stdout"
        }
      ]
    },
    {
      "cell_type": "code",
      "metadata": {
        "id": "wV_8sWbCfjuI",
        "outputId": "7dac0139-a61b-4c0c-d155-2688cae9db69",
        "colab": {
          "base_uri": "https://localhost:8080/",
          "height": 34
        }
      },
      "source": [
        "i = 10\n",
        "while i <= 40:\n",
        "    print(i,  end=\",\")\n",
        "    i += 10"
      ],
      "execution_count": 20,
      "outputs": [
        {
          "output_type": "stream",
          "text": [
            "10,20,30,40,"
          ],
          "name": "stdout"
        }
      ]
    },
    {
      "cell_type": "code",
      "metadata": {
        "id": "53wmXyYygZfC",
        "outputId": "99d759b9-a600-4467-c66a-174ac116c3d7",
        "colab": {
          "base_uri": "https://localhost:8080/",
          "height": 70
        }
      },
      "source": [
        "'''\n",
        "****\n",
        "****\n",
        "****\n",
        "'''\n",
        "for z in range(3):\n",
        "  for i in range(4):\n",
        "    print(\"*\", end=\"\")\n",
        "  print()    "
      ],
      "execution_count": 25,
      "outputs": [
        {
          "output_type": "stream",
          "text": [
            "****\n",
            "****\n",
            "****\n"
          ],
          "name": "stdout"
        }
      ]
    },
    {
      "cell_type": "code",
      "metadata": {
        "id": "VL5FbiFQhNJi",
        "outputId": "fdc7c7f1-1684-4487-bcd8-68ffe5bff299",
        "colab": {
          "base_uri": "https://localhost:8080/",
          "height": 123
        }
      },
      "source": [
        "## output program\n",
        "'''\n",
        "*\n",
        "**\n",
        "***\n",
        "****\n",
        "*****\n",
        "1\n",
        "11\n",
        "111\n",
        "1111\n",
        "11111\n",
        "'''\n",
        "for num in range(6):\n",
        "    for i in range(num):\n",
        "        print(\"*\", end=\" \")\n",
        "    print()\n"
      ],
      "execution_count": 28,
      "outputs": [
        {
          "output_type": "stream",
          "text": [
            "\n",
            "* \n",
            "* * \n",
            "* * * \n",
            "* * * * \n",
            "* * * * * \n"
          ],
          "name": "stdout"
        }
      ]
    },
    {
      "cell_type": "code",
      "metadata": {
        "id": "gV1e5U2skDgr"
      },
      "source": [
        "'''\n",
        "1   2 3  4  5  6  7\n",
        "8   9 10 11 12 13 14\n",
        "15 16 17 18 19 20 21\n",
        "22 23 24 25 26 27 28\n",
        "'''\n",
        "\n"
      ],
      "execution_count": null,
      "outputs": []
    },
    {
      "cell_type": "code",
      "metadata": {
        "id": "KYx2TCWolLdh",
        "outputId": "e42b7dde-9dd7-4647-f5cb-6d0c72a3ff23",
        "colab": {
          "base_uri": "https://localhost:8080/",
          "height": 283
        }
      },
      "source": [
        "from random import randint\n",
        "acak=randint(1,100)\n",
        "jawab=False\n",
        "jumtebak=0\n",
        "while jawab != True:\n",
        "  tebakan=int(input(\"Tebakan angka anda ?\"))\n",
        "  if tebakan > acak :\n",
        "    print(\"Tebakan anda terlalu besar..!\")\n",
        "    jumtebak +=1\n",
        "  elif tebakan < acak :\n",
        "    print(\"Tebakan anda terlalu kecil\")\n",
        "    jumtebak +=1\n",
        "  else :\n",
        "    print(\"Selamat anda berhasil menebak\")\n",
        "    jawab=True  \n",
        "\n",
        "if jawab :\n",
        "  if jumtebak>=10 :\n",
        "    grade=\"Idiot\"\n",
        "  elif jumtebak >=6 :\n",
        "    grade=\"Lumayan\"\n",
        "  else :\n",
        "    grade=\"Jenius\"      \n",
        "print (\"Anda {}, menebak sebanyak {} kali\". format(grade,jumtebak))"
      ],
      "execution_count": 37,
      "outputs": [
        {
          "output_type": "stream",
          "text": [
            "Tebakan angka anda ?50\n",
            "Tebakan anda terlalu besar..!\n",
            "Tebakan angka anda ?25\n",
            "Tebakan anda terlalu besar..!\n",
            "Tebakan angka anda ?15\n",
            "Tebakan anda terlalu kecil\n",
            "Tebakan angka anda ?20\n",
            "Tebakan anda terlalu kecil\n",
            "Tebakan angka anda ?23\n",
            "Tebakan anda terlalu besar..!\n",
            "Tebakan angka anda ?22\n",
            "Tebakan anda terlalu besar..!\n",
            "Tebakan angka anda ?21\n",
            "Selamat anda berhasil menebak\n",
            "Anda Lumayan, menebak sebanyak 6 \n"
          ],
          "name": "stdout"
        }
      ]
    }
  ]
}
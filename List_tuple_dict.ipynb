{
  "nbformat": 4,
  "nbformat_minor": 0,
  "metadata": {
    "colab": {
      "name": "List_tuple_dict.ipynb",
      "provenance": [],
      "authorship_tag": "ABX9TyPlyOS7G9MnZtDsIoTytH5p",
      "include_colab_link": true
    },
    "kernelspec": {
      "name": "python3",
      "display_name": "Python 3"
    },
    "language_info": {
      "name": "python"
    }
  },
  "cells": [
    {
      "cell_type": "markdown",
      "metadata": {
        "id": "view-in-github",
        "colab_type": "text"
      },
      "source": [
        "<a href=\"https://colab.research.google.com/github/asepmuhidin/mk-python/blob/master/List_tuple_dict.ipynb\" target=\"_parent\"><img src=\"https://colab.research.google.com/assets/colab-badge.svg\" alt=\"Open In Colab\"/></a>"
      ]
    },
    {
      "cell_type": "code",
      "metadata": {
        "colab": {
          "base_uri": "https://localhost:8080/"
        },
        "id": "y4FInaMlVNhZ",
        "outputId": "6244921e-2a64-432d-c8de-9eeb27cdcc6d"
      },
      "source": [
        "#daftar siswa\n",
        "siswa=[\"Cahyadi\",\"Irul\",\"Atika\",\"Anita\",\"Riki\",\"Adela\",\"Nanda\",\"Adinda\"]\n",
        "print(siswa[2])"
      ],
      "execution_count": 1,
      "outputs": [
        {
          "output_type": "stream",
          "name": "stdout",
          "text": [
            "Atika\n"
          ]
        }
      ]
    },
    {
      "cell_type": "code",
      "metadata": {
        "colab": {
          "base_uri": "https://localhost:8080/"
        },
        "id": "Z9M82I6wVxC_",
        "outputId": "a4d3cc95-6331-40f7-df46-b0420e6ab280"
      },
      "source": [
        "#slicing\n",
        "print(siswa[2:5])"
      ],
      "execution_count": 2,
      "outputs": [
        {
          "output_type": "stream",
          "name": "stdout",
          "text": [
            "['Atika', 'Anita', 'Riki']\n"
          ]
        }
      ]
    },
    {
      "cell_type": "code",
      "metadata": {
        "colab": {
          "base_uri": "https://localhost:8080/"
        },
        "id": "mDz-yZJDWMBM",
        "outputId": "5d437371-730e-4add-9ef6-af8cf21f6a19"
      },
      "source": [
        "print(siswa[0])\n",
        "print(siswa[1])\n",
        "print(siswa[2])\n",
        "print(siswa[3])\n",
        "print(siswa[4])\n",
        "print(siswa[5])\n",
        "print(siswa[6])\n",
        "print(siswa[7])\n"
      ],
      "execution_count": 6,
      "outputs": [
        {
          "output_type": "stream",
          "name": "stdout",
          "text": [
            "Cahyadi\n",
            "Irul\n",
            "Atika\n",
            "Anita\n",
            "Riki\n",
            "Adela\n",
            "Nanda\n",
            "Adinda\n"
          ]
        }
      ]
    },
    {
      "cell_type": "code",
      "metadata": {
        "colab": {
          "base_uri": "https://localhost:8080/"
        },
        "id": "_7MzuqH6W-t1",
        "outputId": "755bea97-36fc-44a5-9969-3d3ee4653d79"
      },
      "source": [
        "for i in range(8):\n",
        "  print(siswa[i])"
      ],
      "execution_count": 8,
      "outputs": [
        {
          "output_type": "stream",
          "name": "stdout",
          "text": [
            "Cahyadi\n",
            "Irul\n",
            "Atika\n",
            "Anita\n",
            "Riki\n",
            "Adela\n",
            "Nanda\n",
            "Adinda\n"
          ]
        }
      ]
    },
    {
      "cell_type": "code",
      "metadata": {
        "colab": {
          "base_uri": "https://localhost:8080/"
        },
        "id": "Ngihu-1VXRA_",
        "outputId": "a38551ba-8840-41c2-d5a7-464ee610f184"
      },
      "source": [
        "for nama in siswa:\n",
        "  print(nama)"
      ],
      "execution_count": 9,
      "outputs": [
        {
          "output_type": "stream",
          "name": "stdout",
          "text": [
            "Cahyadi\n",
            "Irul\n",
            "Atika\n",
            "Anita\n",
            "Riki\n",
            "Adela\n",
            "Nanda\n",
            "Adinda\n"
          ]
        }
      ]
    },
    {
      "cell_type": "code",
      "metadata": {
        "colab": {
          "base_uri": "https://localhost:8080/"
        },
        "id": "O2QdrObSXy3D",
        "outputId": "dc108a34-8fe6-41f8-e693-1fef8d04bd41"
      },
      "source": [
        "siswa[0]=\"Ovies Cahyadi\"\n",
        "print(siswa)"
      ],
      "execution_count": 10,
      "outputs": [
        {
          "output_type": "stream",
          "name": "stdout",
          "text": [
            "['Ovies Cahyadi', 'Irul', 'Atika', 'Anita', 'Riki', 'Adela', 'Nanda', 'Adinda']\n"
          ]
        }
      ]
    },
    {
      "cell_type": "code",
      "metadata": {
        "colab": {
          "base_uri": "https://localhost:8080/"
        },
        "id": "xC4sW85OYCWV",
        "outputId": "376beb5d-5f0d-4581-ec75-a12a0972b159"
      },
      "source": [
        "del siswa[3]\n",
        "print(siswa)"
      ],
      "execution_count": 11,
      "outputs": [
        {
          "output_type": "stream",
          "name": "stdout",
          "text": [
            "['Ovies Cahyadi', 'Irul', 'Atika', 'Riki', 'Adela', 'Nanda', 'Adinda']\n"
          ]
        }
      ]
    },
    {
      "cell_type": "code",
      "metadata": {
        "colab": {
          "base_uri": "https://localhost:8080/"
        },
        "id": "ovgbIeSIYVDn",
        "outputId": "d8da231d-f538-44a8-e9e2-3fcdecb6bc1d"
      },
      "source": [
        "for i in range(len(siswa)):\n",
        "  print(f\"{i+1}.{siswa[i]}\")"
      ],
      "execution_count": 25,
      "outputs": [
        {
          "output_type": "stream",
          "name": "stdout",
          "text": [
            "1.Ovies Cahyadi\n",
            "2.Irul\n",
            "3.Atika\n",
            "4.Riki\n",
            "5.Adela\n",
            "6.Nanda\n",
            "7.Adinda\n"
          ]
        }
      ]
    },
    {
      "cell_type": "code",
      "metadata": {
        "colab": {
          "base_uri": "https://localhost:8080/"
        },
        "id": "IiGGwDYXYior",
        "outputId": "3be639cb-16df-48e6-e95c-eae237a0860b"
      },
      "source": [
        "print(f\"Jumlah siswa adalah {len(siswa)}\")"
      ],
      "execution_count": 13,
      "outputs": [
        {
          "output_type": "stream",
          "name": "stdout",
          "text": [
            "Jumlah siswa adalah 7\n"
          ]
        }
      ]
    },
    {
      "cell_type": "code",
      "metadata": {
        "colab": {
          "base_uri": "https://localhost:8080/"
        },
        "id": "aWGDjvKEYwCE",
        "outputId": "38519e1b-ad5c-4cac-a745-7ddb136057bb"
      },
      "source": [
        "siswa_2=[\"Adam\",\"abdul Mukti\",\"Adi Setiawan\"]\n",
        "all_siswa=siswa+siswa_2\n",
        "for no,nama in enumerate(all_siswa) :\n",
        "  print(nama, end=\",\")"
      ],
      "execution_count": 40,
      "outputs": [
        {
          "output_type": "stream",
          "name": "stdout",
          "text": [
            "Ovies Cahyadi,Irul,Atika,Riki,Adela,Nanda,Adinda,Adam,abdul Mukti,Adi Setiawan,"
          ]
        }
      ]
    },
    {
      "cell_type": "code",
      "metadata": {
        "colab": {
          "base_uri": "https://localhost:8080/"
        },
        "id": "4jQPuriSZUlp",
        "outputId": "7f0e73b4-04f4-4ef6-d095-fd89aa1e6e32"
      },
      "source": [
        "nama=\"Adam\"\n",
        "if nama in all_siswa :\n",
        "  print(f\"Nama {nama} ada dalam daftar siswa\")\n",
        "else:\n",
        "  print(f\"Nama {nama} Tidak ada dalam daftar siswa\")\n"
      ],
      "execution_count": 19,
      "outputs": [
        {
          "output_type": "stream",
          "name": "stdout",
          "text": [
            "Nama Adam ada dalam daftar siswa\n"
          ]
        }
      ]
    },
    {
      "cell_type": "code",
      "metadata": {
        "colab": {
          "base_uri": "https://localhost:8080/"
        },
        "id": "z6ddT-6WaTTp",
        "outputId": "430d4583-8586-49a6-9aa6-bf42375d29c0"
      },
      "source": [
        "print(nama[3]+nama[2]+nama[1]+nama[0])"
      ],
      "execution_count": 20,
      "outputs": [
        {
          "output_type": "stream",
          "name": "stdout",
          "text": [
            "madA\n"
          ]
        }
      ]
    },
    {
      "cell_type": "code",
      "metadata": {
        "colab": {
          "base_uri": "https://localhost:8080/"
        },
        "id": "7boRl_fIaloX",
        "outputId": "009fbfe3-1c75-48e2-f22e-5ead67810997"
      },
      "source": [
        "#range(start,stop,step)===>range(1,6,1)==>1,2,3,4,5\n",
        "#range(start,stop,step)===>range(5,0,-1)==>5,4,3,2,1\n",
        "nama=siswa[0]\n",
        "nama_terbalik=\"\"\n",
        "for i in range(len(nama)-1,-1,-1):\n",
        "  nama_terbalik +=nama[i] \n",
        "\n",
        "print(f\"Nama {nama} kalau dibalik menjadi {nama_terbalik}\")"
      ],
      "execution_count": 24,
      "outputs": [
        {
          "output_type": "stream",
          "name": "stdout",
          "text": [
            "Nama Ovies Cahyadi kalau dibalik menjadi idayhaC seivO\n"
          ]
        }
      ]
    },
    {
      "cell_type": "code",
      "metadata": {
        "colab": {
          "base_uri": "https://localhost:8080/"
        },
        "id": "z_qFl82ecA3z",
        "outputId": "7ca8159e-5c91-47e5-af43-80be3bcb278d"
      },
      "source": [
        "nama = \"Dhaffa Ardhana\"\n",
        "nama_terbalik = nama[::-1]\n",
        "\n",
        "print(nama_terbalik)"
      ],
      "execution_count": 30,
      "outputs": [
        {
          "output_type": "stream",
          "name": "stdout",
          "text": [
            "anahdrA affahD\n"
          ]
        }
      ]
    },
    {
      "cell_type": "code",
      "metadata": {
        "colab": {
          "base_uri": "https://localhost:8080/"
        },
        "id": "W-N2O-E-dp5d",
        "outputId": "5614bfbf-e224-490d-b793-813d8f6f00b9"
      },
      "source": [
        "all_siswa"
      ],
      "execution_count": 31,
      "outputs": [
        {
          "output_type": "execute_result",
          "data": {
            "text/plain": [
              "['Ovies Cahyadi',\n",
              " 'Irul',\n",
              " 'Atika',\n",
              " 'Riki',\n",
              " 'Adela',\n",
              " 'Nanda',\n",
              " 'Adinda',\n",
              " 'Adam',\n",
              " 'abdul Mukti',\n",
              " 'Adi Setiawan']"
            ]
          },
          "metadata": {},
          "execution_count": 31
        }
      ]
    },
    {
      "cell_type": "code",
      "metadata": {
        "colab": {
          "base_uri": "https://localhost:8080/"
        },
        "id": "aUk1hNM4dvHX",
        "outputId": "a1715a6b-8599-490c-9d9d-233ae8776616"
      },
      "source": [
        "all_siswa.append(\"Adidarma\")\n",
        "all_siswa"
      ],
      "execution_count": 32,
      "outputs": [
        {
          "output_type": "execute_result",
          "data": {
            "text/plain": [
              "['Ovies Cahyadi',\n",
              " 'Irul',\n",
              " 'Atika',\n",
              " 'Riki',\n",
              " 'Adela',\n",
              " 'Nanda',\n",
              " 'Adinda',\n",
              " 'Adam',\n",
              " 'abdul Mukti',\n",
              " 'Adi Setiawan',\n",
              " 'Adidarma']"
            ]
          },
          "metadata": {},
          "execution_count": 32
        }
      ]
    },
    {
      "cell_type": "code",
      "metadata": {
        "colab": {
          "base_uri": "https://localhost:8080/"
        },
        "id": "v4JHxP0ad-rw",
        "outputId": "c81a718d-c783-4da0-ecf5-067d1d056f0f"
      },
      "source": [
        "all_siswa.index(\"Adidarma\")"
      ],
      "execution_count": 33,
      "outputs": [
        {
          "output_type": "execute_result",
          "data": {
            "text/plain": [
              "10"
            ]
          },
          "metadata": {},
          "execution_count": 33
        }
      ]
    },
    {
      "cell_type": "code",
      "metadata": {
        "id": "WcKhW-rqeIWz"
      },
      "source": [
        "all_siswa.insert(10,\"Abdul Aziz\")\n",
        "all_siswa"
      ],
      "execution_count": null,
      "outputs": []
    },
    {
      "cell_type": "code",
      "metadata": {
        "id": "aX5grwHTgQpU",
        "outputId": "d4dd770a-a855-4f78-8b43-5d7f3f4ba422",
        "colab": {
          "base_uri": "https://localhost:8080/"
        }
      },
      "source": [
        "#tipe data dict\n",
        "# a={index:value,index1:value1,....}\n",
        "data_siswa={\"nama\":\"Adidarma\",\"nilai\":80,\"MK\":\"Pemrograman\"}\n",
        "\n",
        "print(data_siswa[\"nama\"])\n",
        "print(data_siswa[\"nilai\"])\n",
        "print(data_siswa[\"MK\"])"
      ],
      "execution_count": 39,
      "outputs": [
        {
          "output_type": "stream",
          "name": "stdout",
          "text": [
            "Adidarma\n",
            "80\n",
            "Pemrograman\n"
          ]
        }
      ]
    },
    {
      "cell_type": "code",
      "metadata": {
        "id": "hvFxr1dShNhQ",
        "outputId": "b83ef48f-0eb8-404e-de92-289b6e4caad3",
        "colab": {
          "base_uri": "https://localhost:8080/"
        }
      },
      "source": [
        "data_siswa={\n",
        "            \"nama\"  :[\"Ovies Cahyadi\",\"Irul\",\"Atika\",\"Riki\",\"Adela\"],\n",
        "            \"nilai\" :[80,90,50,67,89]}\n",
        "print(data_siswa)            "
      ],
      "execution_count": 41,
      "outputs": [
        {
          "output_type": "stream",
          "name": "stdout",
          "text": [
            "{'nama': ['Ovies Cahyadi', 'Irul', 'Atika', 'Riki', 'Adela'], 'nilai': [80, 90, 50, 67, 89]}\n"
          ]
        }
      ]
    },
    {
      "cell_type": "code",
      "metadata": {
        "id": "5I-fohschvz3",
        "outputId": "07ab7517-0e3a-4808-cde1-cdedcfbf5478",
        "colab": {
          "base_uri": "https://localhost:8080/"
        }
      },
      "source": [
        "print(data_siswa[\"nama\"])\n",
        "print(data_siswa[\"nilai\"])"
      ],
      "execution_count": 42,
      "outputs": [
        {
          "output_type": "stream",
          "name": "stdout",
          "text": [
            "['Ovies Cahyadi', 'Irul', 'Atika', 'Riki', 'Adela']\n",
            "[80, 90, 50, 67, 89]\n"
          ]
        }
      ]
    },
    {
      "cell_type": "code",
      "metadata": {
        "id": "uB_zEYyYiOH7"
      },
      "source": [
        "data_siswa[\"nama\"][0]=\"Ovies\""
      ],
      "execution_count": 45,
      "outputs": []
    },
    {
      "cell_type": "code",
      "metadata": {
        "id": "mjx0-8Gkh2CE",
        "outputId": "2f96ad38-61cd-4335-b4e6-451603ef0568",
        "colab": {
          "base_uri": "https://localhost:8080/",
          "height": 204
        }
      },
      "source": [
        "import pandas as pd\n",
        "df=pd.DataFrame(data_siswa)\n",
        "df"
      ],
      "execution_count": 46,
      "outputs": [
        {
          "output_type": "execute_result",
          "data": {
            "text/html": [
              "<div>\n",
              "<style scoped>\n",
              "    .dataframe tbody tr th:only-of-type {\n",
              "        vertical-align: middle;\n",
              "    }\n",
              "\n",
              "    .dataframe tbody tr th {\n",
              "        vertical-align: top;\n",
              "    }\n",
              "\n",
              "    .dataframe thead th {\n",
              "        text-align: right;\n",
              "    }\n",
              "</style>\n",
              "<table border=\"1\" class=\"dataframe\">\n",
              "  <thead>\n",
              "    <tr style=\"text-align: right;\">\n",
              "      <th></th>\n",
              "      <th>nama</th>\n",
              "      <th>nilai</th>\n",
              "    </tr>\n",
              "  </thead>\n",
              "  <tbody>\n",
              "    <tr>\n",
              "      <th>0</th>\n",
              "      <td>Ovies</td>\n",
              "      <td>80</td>\n",
              "    </tr>\n",
              "    <tr>\n",
              "      <th>1</th>\n",
              "      <td>Irul</td>\n",
              "      <td>90</td>\n",
              "    </tr>\n",
              "    <tr>\n",
              "      <th>2</th>\n",
              "      <td>Atika</td>\n",
              "      <td>50</td>\n",
              "    </tr>\n",
              "    <tr>\n",
              "      <th>3</th>\n",
              "      <td>Riki</td>\n",
              "      <td>67</td>\n",
              "    </tr>\n",
              "    <tr>\n",
              "      <th>4</th>\n",
              "      <td>Adela</td>\n",
              "      <td>89</td>\n",
              "    </tr>\n",
              "  </tbody>\n",
              "</table>\n",
              "</div>"
            ],
            "text/plain": [
              "    nama  nilai\n",
              "0  Ovies     80\n",
              "1   Irul     90\n",
              "2  Atika     50\n",
              "3   Riki     67\n",
              "4  Adela     89"
            ]
          },
          "metadata": {},
          "execution_count": 46
        }
      ]
    }
  ]
}
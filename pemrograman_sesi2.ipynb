{
  "nbformat": 4,
  "nbformat_minor": 0,
  "metadata": {
    "colab": {
      "name": "pemrograman_sesi2",
      "provenance": [],
      "authorship_tag": "ABX9TyOydH6VQaO6CnRaB20OKO/4",
      "include_colab_link": true
    },
    "kernelspec": {
      "name": "python3",
      "display_name": "Python 3"
    }
  },
  "cells": [
    {
      "cell_type": "markdown",
      "metadata": {
        "id": "view-in-github",
        "colab_type": "text"
      },
      "source": [
        "<a href=\"https://colab.research.google.com/github/asepmuhidin/mk-python/blob/master/pemrograman_sesi2.ipynb\" target=\"_parent\"><img src=\"https://colab.research.google.com/assets/colab-badge.svg\" alt=\"Open In Colab\"/></a>"
      ]
    },
    {
      "cell_type": "code",
      "metadata": {
        "id": "WyHFTgsDQWgf"
      },
      "source": [
        "#Variabel adalah media simpan sementara di memori\n",
        "#Nilai terakhir yang dipakai/diakui"
      ],
      "execution_count": null,
      "outputs": []
    },
    {
      "cell_type": "code",
      "metadata": {
        "id": "M54Gnlb8Rkx0"
      },
      "source": [
        "#var_name=value\n",
        "gapok=5200000"
      ],
      "execution_count": null,
      "outputs": []
    },
    {
      "cell_type": "code",
      "metadata": {
        "id": "VftA55TnaBQ1"
      },
      "source": [
        "a=10\n",
        "#a=a+20 =====> a +=20\n",
        "a +=50\n",
        "print(a) "
      ],
      "execution_count": null,
      "outputs": []
    },
    {
      "cell_type": "code",
      "metadata": {
        "id": "Q9hNPeAObZkI"
      },
      "source": [
        "a=30\n",
        "c=10\n",
        "b=a==c\n",
        "print(b)\n",
        "#apa output variabel b"
      ],
      "execution_count": null,
      "outputs": []
    },
    {
      "cell_type": "code",
      "metadata": {
        "id": "tCZ1jD_4choX",
        "outputId": "21f2b623-b467-483e-b8b3-232417619977",
        "colab": {
          "base_uri": "https://localhost:8080/",
          "height": 34
        }
      },
      "source": [
        "#aku bilangan ganjil jika disisa bagi sama 1 jika tidak bilangan genap\n",
        "#IIF(kondisi,true,false)\n",
        "#IIF(bilangan%2==1,\"Ganjil\",\"Genap\")\n",
        "\n",
        "bilangan=50\n",
        "aku=\"Bilangan ganjil\" if bilangan % 2 ==1 else \"Bilangan GENAP\"\n",
        "print(aku)\n"
      ],
      "execution_count": 27,
      "outputs": [
        {
          "output_type": "stream",
          "text": [
            "Bilangan GENAP\n"
          ],
          "name": "stdout"
        }
      ]
    },
    {
      "cell_type": "code",
      "metadata": {
        "id": "1u6jcQyOd5sH",
        "outputId": "042b7508-3979-4f77-a5dd-8f8b46ea92ca",
        "colab": {
          "base_uri": "https://localhost:8080/",
          "height": 34
        }
      },
      "source": [
        "umur=9\n",
        "aku = \"bocah\" if umur < 10 else \"dewasa\"\n",
        "print(aku)"
      ],
      "execution_count": 31,
      "outputs": [
        {
          "output_type": "stream",
          "text": [
            "bocah\n"
          ],
          "name": "stdout"
        }
      ]
    },
    {
      "cell_type": "code",
      "metadata": {
        "id": "KGhTA8-sfH8T",
        "outputId": "31e0a04e-6153-406d-9ebd-138a0425e765",
        "colab": {
          "base_uri": "https://localhost:8080/",
          "height": 52
        }
      },
      "source": [
        "a=20\n",
        "b=30\n",
        "\n",
        "a+=b   # a=a+b ===> a=20+30=50 (inget nilai terakhir a=50)\n",
        "b=a-b  # b=a-b ===> a=50-30=20 (inget nilai terakhir b=20)\n",
        "a=a-b  # a=a-b ===> a=50-20=30 (inget nilai terakhir a=30)\n",
        "\n",
        "print(\"Nilai a=\",a)\n",
        "print(\"Nilai b=\",b)\n",
        "#pertanyaan , berapa nilai akhir a dan b"
      ],
      "execution_count": 32,
      "outputs": [
        {
          "output_type": "stream",
          "text": [
            "Nilai a= 30\n",
            "Nilai b= 20\n"
          ],
          "name": "stdout"
        }
      ]
    }
  ]
}
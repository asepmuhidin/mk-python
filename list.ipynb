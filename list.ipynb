{
  "nbformat": 4,
  "nbformat_minor": 0,
  "metadata": {
    "colab": {
      "name": "list.ipynb",
      "provenance": [],
      "authorship_tag": "ABX9TyPrNmQvyx8NsGbbFoEXX9SO",
      "include_colab_link": true
    },
    "kernelspec": {
      "name": "python3",
      "display_name": "Python 3"
    }
  },
  "cells": [
    {
      "cell_type": "markdown",
      "metadata": {
        "id": "view-in-github",
        "colab_type": "text"
      },
      "source": [
        "<a href=\"https://colab.research.google.com/github/asepmuhidin/mk-python/blob/master/list.ipynb\" target=\"_parent\"><img src=\"https://colab.research.google.com/assets/colab-badge.svg\" alt=\"Open In Colab\"/></a>"
      ]
    },
    {
      "cell_type": "code",
      "metadata": {
        "id": "Xzlk0tXbcIAy",
        "outputId": "b9d8e2bb-d029-4cb8-9dd9-61ef16d9f65c",
        "colab": {
          "base_uri": "https://localhost:8080/",
          "height": 34
        }
      },
      "source": [
        "member_online=['Purdianto','Ahmad Akbar','Alif Rahmat','Imam Fauzi']\n",
        "print(\"Member Online ke-3 adalah :{} \" . format(member_online[2]))"
      ],
      "execution_count": 1,
      "outputs": [
        {
          "output_type": "stream",
          "text": [
            "Member Online ke-3 adalah :Alif Rahmat \n"
          ],
          "name": "stdout"
        }
      ]
    },
    {
      "cell_type": "code",
      "metadata": {
        "id": "iIL5JGTldQMe",
        "outputId": "b8167943-cdd9-4849-cd26-7dde445e03e6",
        "colab": {
          "base_uri": "https://localhost:8080/",
          "height": 105
        }
      },
      "source": [
        "## menampilkan keseluruhan member\n",
        "print(member_online)\n",
        "no=1\n",
        "for member in member_online:\n",
        "  print (\"Member ke={} adalah {} \" . format(no,member))\n",
        "  no +=1"
      ],
      "execution_count": 3,
      "outputs": [
        {
          "output_type": "stream",
          "text": [
            "['Purdianto', 'Ahmad Akbar', 'Alif Rahmat', 'Imam Fauzi']\n",
            "Member ke=1 adalah Purdianto \n",
            "Member ke=2 adalah Ahmad Akbar \n",
            "Member ke=3 adalah Alif Rahmat \n",
            "Member ke=4 adalah Imam Fauzi \n"
          ],
          "name": "stdout"
        }
      ]
    },
    {
      "cell_type": "code",
      "metadata": {
        "id": "F7YzYxr4eA-d",
        "outputId": "729d2222-99e6-4dc7-f79d-acfe9b40d67d",
        "colab": {
          "base_uri": "https://localhost:8080/",
          "height": 34
        }
      },
      "source": [
        "## Menampilkan beberapa member tertentu\n",
        "member_3=member_online[0:3]\n",
        "print(member_3)"
      ],
      "execution_count": 4,
      "outputs": [
        {
          "output_type": "stream",
          "text": [
            "['Purdianto', 'Ahmad Akbar', 'Alif Rahmat']\n"
          ],
          "name": "stdout"
        }
      ]
    },
    {
      "cell_type": "code",
      "metadata": {
        "id": "t52tnaXFe2bA",
        "outputId": "8931207b-15f6-424e-977b-ea91968aac02",
        "colab": {
          "base_uri": "https://localhost:8080/",
          "height": 34
        }
      },
      "source": [
        "## Menambahkan item baru gunakan method append\n",
        "member_online.append(\"Abdi Ilyas\")\n",
        "print(member_online)"
      ],
      "execution_count": 7,
      "outputs": [
        {
          "output_type": "stream",
          "text": [
            "['Purdianto', 'Ahmad Akbar', 'Alif Rahmat', 'Imam Fauzi', 'Abdi Ilyas']\n"
          ],
          "name": "stdout"
        }
      ]
    },
    {
      "cell_type": "code",
      "metadata": {
        "id": "owuOO-sgfsS3",
        "outputId": "83a39cc9-bc32-469b-949f-f4e736caaf7b",
        "colab": {
          "base_uri": "https://localhost:8080/",
          "height": 34
        }
      },
      "source": [
        "## Mengupdate sebuah List\n",
        "member_online[1]=\"Sandi Akbar\"\n",
        "print(member_online)"
      ],
      "execution_count": 8,
      "outputs": [
        {
          "output_type": "stream",
          "text": [
            "['Purdianto', 'Sandi Akbar', 'Alif Rahmat', 'Imam Fauzi', 'Abdi Ilyas']\n"
          ],
          "name": "stdout"
        }
      ]
    },
    {
      "cell_type": "code",
      "metadata": {
        "id": "uCCf-fKtf9rF",
        "outputId": "1785085e-8580-4885-eedc-ec88b381d4e3",
        "colab": {
          "base_uri": "https://localhost:8080/",
          "height": 34
        }
      },
      "source": [
        "## Menghapus sebuah item list\n",
        "del member_online[1]\n",
        "print(member_online)"
      ],
      "execution_count": 9,
      "outputs": [
        {
          "output_type": "stream",
          "text": [
            "['Purdianto', 'Alif Rahmat', 'Imam Fauzi', 'Abdi Ilyas']\n"
          ],
          "name": "stdout"
        }
      ]
    },
    {
      "cell_type": "code",
      "metadata": {
        "id": "5EfDQj1Ign32",
        "outputId": "9290b9b7-4d87-4ba4-a11a-576d07b6bdf3",
        "colab": {
          "base_uri": "https://localhost:8080/",
          "height": 52
        }
      },
      "source": [
        "## Mengetahui jumlah items pada list\n",
        "member_online.append(\"Dinda Andriani\")\n",
        "print(\"Jumlah member online adalah {}\". format(len(member_online)))\n",
        "print(member_online)"
      ],
      "execution_count": 18,
      "outputs": [
        {
          "output_type": "stream",
          "text": [
            "Jumlah member online adalah 5\n",
            "['Purdianto', 'Alif Rahmat', 'Imam Fauzi', 'Abdi Ilyas', 'Dinda Andriani']\n"
          ],
          "name": "stdout"
        }
      ]
    },
    {
      "cell_type": "code",
      "metadata": {
        "id": "wwPjI4ggh1Yx",
        "outputId": "8c7e0904-279e-4437-f54b-4e7caecee317",
        "colab": {
          "base_uri": "https://localhost:8080/",
          "height": 34
        }
      },
      "source": [
        "## Menggabungkan beberapa list\n",
        "new_member=[\"Ivanda\",\"Endar Kurniawati\"]\n",
        "all_member=member_online + new_member\n",
        "print(all_member)"
      ],
      "execution_count": 19,
      "outputs": [
        {
          "output_type": "stream",
          "text": [
            "['Purdianto', 'Alif Rahmat', 'Imam Fauzi', 'Abdi Ilyas', 'Dinda Andriani', 'Ivanda', 'Endar Kurniawati']\n"
          ],
          "name": "stdout"
        }
      ]
    },
    {
      "cell_type": "code",
      "metadata": {
        "id": "17HogW8wiYd6",
        "outputId": "49528741-e551-4916-fbbe-fea5a3c3e43e",
        "colab": {
          "base_uri": "https://localhost:8080/",
          "height": 34
        }
      },
      "source": [
        "print(new_member * 4)"
      ],
      "execution_count": 24,
      "outputs": [
        {
          "output_type": "stream",
          "text": [
            "['Ivanda', 'Endar Kurniawati', 'Ivanda', 'Endar Kurniawati', 'Ivanda', 'Endar Kurniawati', 'Ivanda', 'Endar Kurniawati']\n"
          ],
          "name": "stdout"
        }
      ]
    },
    {
      "cell_type": "code",
      "metadata": {
        "id": "UHcXBrDGizj7",
        "outputId": "dbbb8621-ed61-4d78-a89d-a329a34b403f",
        "colab": {
          "base_uri": "https://localhost:8080/",
          "height": 52
        }
      },
      "source": [
        "## Mencari item dari sebuah list\n",
        "\n",
        "src_name=input(\"Masukan nama member yang anda cari ?\")\n",
        "\n",
        "ketemu=src_name in all_member\n",
        "\n",
        "if ketemu :\n",
        "  print(\"{} ada adalah member \". format(src_name))\n",
        "else :\n",
        "  print(\"{} anda bukan member \". format(src_name))  \n"
      ],
      "execution_count": 27,
      "outputs": [
        {
          "output_type": "stream",
          "text": [
            "Masukan nama member yang anda cari ?Agus\n",
            "Agus anda bukan member \n"
          ],
          "name": "stdout"
        }
      ]
    },
    {
      "cell_type": "code",
      "metadata": {
        "id": "SOBAskw7kHAP",
        "outputId": "184973d9-4704-4c37-c188-1759283e6024",
        "colab": {
          "base_uri": "https://localhost:8080/",
          "height": 141
        }
      },
      "source": [
        "for name in all_member:\n",
        "  print(name)"
      ],
      "execution_count": 28,
      "outputs": [
        {
          "output_type": "stream",
          "text": [
            "Purdianto\n",
            "Alif Rahmat\n",
            "Imam Fauzi\n",
            "Abdi Ilyas\n",
            "Dinda Andriani\n",
            "Ivanda\n",
            "Endar Kurniawati\n"
          ],
          "name": "stdout"
        }
      ]
    },
    {
      "cell_type": "code",
      "metadata": {
        "id": "ayh3yaKXk4sr",
        "outputId": "a61b4908-7832-434d-deb9-ff0f97739431",
        "colab": {
          "base_uri": "https://localhost:8080/",
          "height": 52
        }
      },
      "source": [
        "print(all_member)\n",
        "all_member.reverse()\n",
        "print(all_member)\n"
      ],
      "execution_count": 34,
      "outputs": [
        {
          "output_type": "stream",
          "text": [
            "['Endar Kurniawati', 'Ivanda', 'Dinda Andriani', 'Abdi Ilyas', 'Imam Fauzi', 'Alif Rahmat', 'Purdianto']\n",
            "['Purdianto', 'Alif Rahmat', 'Imam Fauzi', 'Abdi Ilyas', 'Dinda Andriani', 'Ivanda', 'Endar Kurniawati']\n"
          ],
          "name": "stdout"
        }
      ]
    },
    {
      "cell_type": "code",
      "metadata": {
        "id": "MrXjaxhWl-jj",
        "outputId": "9758a47b-8fb8-4c68-e455-907b4c341d7a",
        "colab": {
          "base_uri": "https://localhost:8080/",
          "height": 105
        }
      },
      "source": [
        "A = [60, 70, 45, 90, 100, 50, 80]\n",
        "\n",
        "A.sort()\n",
        "a = len(A)\n",
        "b = max(A)\n",
        "c = min(A)\n",
        "d = sum(A)\n",
        "e = d / a\n",
        "\n",
        "print('Jumlah item nilai adalah : ', a)\n",
        "print('Nilai Tertinggi : ', b)\n",
        "print('Nilai Terendahh : ', c)\n",
        "print('Nilai Rata-Rata : ', e)\n",
        "\n",
        "print(A)"
      ],
      "execution_count": 45,
      "outputs": [
        {
          "output_type": "stream",
          "text": [
            "Jumlah item nilai adalah :  7\n",
            "Nilai Tertinggi :  100\n",
            "Nilai Terendahh :  45\n",
            "Nilai Rata-Rata :  70.71428571428571\n",
            "[45, 50, 60, 70, 80, 90, 100]\n"
          ],
          "name": "stdout"
        }
      ]
    },
    {
      "cell_type": "code",
      "metadata": {
        "id": "Rmj3lLfmokjc",
        "outputId": "03ff777b-1eea-4103-c8c7-dfd8a789dd7f",
        "colab": {
          "base_uri": "https://localhost:8080/",
          "height": 264
        }
      },
      "source": [
        "import matplotlib.pyplot as plt\n",
        "plt.plot(A,all_member);"
      ],
      "execution_count": 48,
      "outputs": [
        {
          "output_type": "display_data",
          "data": {
            "image/png": "[encoded data removed]",
            "text/plain": [
              "<Figure size 432x288 with 1 Axes>"
            ]
          },
          "metadata": {
            "tags": [],
            "needs_background": "light"
          }
        }
      ]
    },
    {
      "cell_type": "code",
      "metadata": {
        "id": "CDfvcVlbp9vH",
        "outputId": "3bc30d08-26ec-4d00-c2b9-af98afec2e8a",
        "colab": {
          "base_uri": "https://localhost:8080/",
          "height": 52
        }
      },
      "source": [
        "x=[1,2,3,4,5,6,7,8,9]\n",
        "y=[]\n",
        "for i in x :\n",
        "  y.append((2*i)+2)\n",
        "\n",
        "print(x)\n",
        "print(y)"
      ],
      "execution_count": 52,
      "outputs": [
        {
          "output_type": "stream",
          "text": [
            "[1, 2, 3, 4, 5, 6, 7, 8, 9]\n",
            "[4, 6, 8, 10, 12, 14, 16, 18, 20]\n"
          ],
          "name": "stdout"
        }
      ]
    },
    {
      "cell_type": "code",
      "metadata": {
        "id": "eXFErsDEqzsQ",
        "outputId": "e6bad741-f025-4d3a-94c6-412feade22d1",
        "colab": {
          "base_uri": "https://localhost:8080/",
          "height": 264
        }
      },
      "source": [
        "plt.plot(x,y);"
      ],
      "execution_count": 54,
      "outputs": [
        {
          "output_type": "display_data",
          "data": {
            "image/png": "[encoded data removed]",
            "text/plain": [
              "<Figure size 432x288 with 1 Axes>"
            ]
          },
          "metadata": {
            "tags": [],
            "needs_background": "light"
          }
        }
      ]
    }
  ]
}
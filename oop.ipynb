{
  "nbformat": 4,
  "nbformat_minor": 0,
  "metadata": {
    "colab": {
      "name": "oop.ipynb",
      "provenance": [],
      "authorship_tag": "ABX9TyNpzqNVuKE+H572W+YMgofY",
      "include_colab_link": true
    },
    "kernelspec": {
      "name": "python3",
      "display_name": "Python 3"
    }
  },
  "cells": [
    {
      "cell_type": "markdown",
      "metadata": {
        "id": "view-in-github",
        "colab_type": "text"
      },
      "source": [
        "<a href=\"https://colab.research.google.com/github/asepmuhidin/mk-python/blob/master/oop.ipynb\" target=\"_parent\"><img src=\"https://colab.research.google.com/assets/colab-badge.svg\" alt=\"Open In Colab\"/></a>"
      ]
    },
    {
      "cell_type": "code",
      "metadata": {
        "id": "pqV-lUFl2org"
      },
      "source": [
        "class Karyawan:\n",
        "    '''Dasar kelas untuk semua karyawan\n",
        "    nama : data nama karyawan\n",
        "    gaji : salary karyawan\n",
        "    '''\n",
        "    jumlah_karyawan = 0\n",
        "\n",
        "    def __init__(self, nama='Fahmi', gaji=3000000):\n",
        "        self.nama = nama\n",
        "        self.gaji = gaji\n",
        "        Karyawan.jumlah_karyawan += 1\n",
        "\n",
        "    def tampilkan_jumlah(self):\n",
        "        print(\"Total karyawan:\", Karyawan.jumlah_karyawan)\n",
        "\n",
        "    def tampilkan_profil(self):\n",
        "        print(\"Nama :\", self.nama)\n",
        "        print(\"Gaji :\", self.gaji)\n",
        "        print()\n"
      ],
      "execution_count": 52,
      "outputs": []
    },
    {
      "cell_type": "code",
      "metadata": {
        "id": "yqHA-3J9698C"
      },
      "source": [
        "k1=Karyawan(\"aa\",10)"
      ],
      "execution_count": 34,
      "outputs": []
    },
    {
      "cell_type": "code",
      "metadata": {
        "colab": {
          "base_uri": "https://localhost:8080/"
        },
        "id": "0cfgAzbR7LtF",
        "outputId": "40d4de66-26cf-4387-f57b-f817544b3aa5"
      },
      "source": [
        "print(k1.jumlah_karyawan)"
      ],
      "execution_count": 35,
      "outputs": [
        {
          "output_type": "stream",
          "text": [
            "1\n"
          ],
          "name": "stdout"
        }
      ]
    },
    {
      "cell_type": "code",
      "metadata": {
        "id": "EIcqz9gM7R4A"
      },
      "source": [
        "k2=Karyawan(\"bb\",20)"
      ],
      "execution_count": 38,
      "outputs": []
    },
    {
      "cell_type": "code",
      "metadata": {
        "colab": {
          "base_uri": "https://localhost:8080/"
        },
        "id": "pSn7Df-Z7aOd",
        "outputId": "f850e5f9-0de5-4f26-eff9-4a49c912ef81"
      },
      "source": [
        "print(k1.jumlah_karyawan)"
      ],
      "execution_count": 39,
      "outputs": [
        {
          "output_type": "stream",
          "text": [
            "3\n"
          ],
          "name": "stdout"
        }
      ]
    },
    {
      "cell_type": "code",
      "metadata": {
        "colab": {
          "base_uri": "https://localhost:8080/"
        },
        "id": "iRmxpWuj71Sg",
        "outputId": "e85e2e44-d84e-44ba-cdce-98c98d1a2dbb"
      },
      "source": [
        "print(\"Gaji {} adalah {}\". format(k2.nama,k2.gaji))"
      ],
      "execution_count": 42,
      "outputs": [
        {
          "output_type": "stream",
          "text": [
            "Gaji bb adalah 5000000\n"
          ],
          "name": "stdout"
        }
      ]
    },
    {
      "cell_type": "code",
      "metadata": {
        "id": "cotbvoAj791p"
      },
      "source": [
        "k2.gaji=5000000"
      ],
      "execution_count": 41,
      "outputs": []
    },
    {
      "cell_type": "code",
      "metadata": {
        "colab": {
          "base_uri": "https://localhost:8080/"
        },
        "id": "OuI5IOTb8Ta-",
        "outputId": "f97beaa4-9a84-43cd-dca7-6b2dc1ecfd16"
      },
      "source": [
        "print(\"Gaji {} adalah {}\". format(getattr(k1,'nama'),getattr(k1,'gaji')))"
      ],
      "execution_count": 44,
      "outputs": [
        {
          "output_type": "stream",
          "text": [
            "Gaji aa adalah 10\n"
          ],
          "name": "stdout"
        }
      ]
    },
    {
      "cell_type": "code",
      "metadata": {
        "id": "FYSvfBui8rfk"
      },
      "source": [
        "setattr(k2,'gaji',1200000)"
      ],
      "execution_count": 45,
      "outputs": []
    },
    {
      "cell_type": "code",
      "metadata": {
        "colab": {
          "base_uri": "https://localhost:8080/"
        },
        "id": "nr_gnvee83Dm",
        "outputId": "8d44efba-f144-49d3-e865-8ef3100f28d8"
      },
      "source": [
        "print(\"Gaji {} adalah {}\". format(getattr(k2,'nama'),getattr(k2,'gaji')))"
      ],
      "execution_count": 46,
      "outputs": [
        {
          "output_type": "stream",
          "text": [
            "Gaji bb adalah 1200000\n"
          ],
          "name": "stdout"
        }
      ]
    },
    {
      "cell_type": "code",
      "metadata": {
        "colab": {
          "base_uri": "https://localhost:8080/"
        },
        "id": "oL7_NYQh9LO6",
        "outputId": "16ff1439-da62-4901-db32-0d672c29cffe"
      },
      "source": [
        "Karyawan.__dict__"
      ],
      "execution_count": 48,
      "outputs": [
        {
          "output_type": "execute_result",
          "data": {
            "text/plain": [
              "mappingproxy({'__dict__': <attribute '__dict__' of 'Karyawan' objects>,\n",
              "              '__doc__': 'Dasar kelas untuk semua karyawan\\n    nama : data nama karyawan\\n    gaji : salary karyawan\\n    ',\n",
              "              '__init__': <function __main__.Karyawan.__init__>,\n",
              "              '__module__': '__main__',\n",
              "              '__weakref__': <attribute '__weakref__' of 'Karyawan' objects>,\n",
              "              'jumlah_karyawan': 3,\n",
              "              'tampilkan_jumlah': <function __main__.Karyawan.tampilkan_jumlah>,\n",
              "              'tampilkan_profil': <function __main__.Karyawan.tampilkan_profil>})"
            ]
          },
          "metadata": {
            "tags": []
          },
          "execution_count": 48
        }
      ]
    },
    {
      "cell_type": "code",
      "metadata": {
        "colab": {
          "base_uri": "https://localhost:8080/",
          "height": 35
        },
        "id": "8BMRxFP39XnS",
        "outputId": "e7cbd6f6-5c03-4bed-c603-ff168d7a5ef5"
      },
      "source": [
        "Karyawan.__name__"
      ],
      "execution_count": 50,
      "outputs": [
        {
          "output_type": "execute_result",
          "data": {
            "application/vnd.google.colaboratory.intrinsic+json": {
              "type": "string"
            },
            "text/plain": [
              "'Karyawan'"
            ]
          },
          "metadata": {
            "tags": []
          },
          "execution_count": 50
        }
      ]
    },
    {
      "cell_type": "code",
      "metadata": {
        "colab": {
          "base_uri": "https://localhost:8080/"
        },
        "id": "L7u9zjlm-x1K",
        "outputId": "1da5ae18-96af-4529-fc37-7287bca07806"
      },
      "source": [
        "k3=Karyawan()\n",
        "print(\"Gaji {} adalah {}\". format(getattr(k3,'nama'),getattr(k3,'gaji')))\n"
      ],
      "execution_count": 53,
      "outputs": [
        {
          "output_type": "stream",
          "text": [
            "Gaji Fahmi adalah 3000000\n"
          ],
          "name": "stdout"
        }
      ]
    },
    {
      "cell_type": "code",
      "metadata": {
        "colab": {
          "base_uri": "https://localhost:8080/"
        },
        "id": "yAz4YaWW_PS7",
        "outputId": "5ce074e5-616e-4d3f-e090-65cd098496b1"
      },
      "source": [
        "k4=Karyawan('Dodo',50)\n",
        "print(\"Gaji {} adalah {}\". format(getattr(k4,'nama'),getattr(k4,'gaji')))"
      ],
      "execution_count": 54,
      "outputs": [
        {
          "output_type": "stream",
          "text": [
            "Gaji Dodo adalah 50\n"
          ],
          "name": "stdout"
        }
      ]
    }
  ]
}
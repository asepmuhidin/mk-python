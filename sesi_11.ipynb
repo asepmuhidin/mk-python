{
  "nbformat": 4,
  "nbformat_minor": 0,
  "metadata": {
    "colab": {
      "name": "sesi-11.ipynb",
      "provenance": [],
      "authorship_tag": "ABX9TyNAIq5oQZ7RfnJ29zSzIH0n",
      "include_colab_link": true
    },
    "kernelspec": {
      "name": "python3",
      "display_name": "Python 3"
    }
  },
  "cells": [
    {
      "cell_type": "markdown",
      "metadata": {
        "id": "view-in-github",
        "colab_type": "text"
      },
      "source": [
        "<a href=\"https://colab.research.google.com/github/asepmuhidin/mk-python/blob/master/sesi_11.ipynb\" target=\"_parent\"><img src=\"https://colab.research.google.com/assets/colab-badge.svg\" alt=\"Open In Colab\"/></a>"
      ]
    },
    {
      "cell_type": "code",
      "metadata": {
        "colab": {
          "base_uri": "https://localhost:8080/"
        },
        "id": "fRxdqdbbD5dR",
        "outputId": "4e54ea05-8ca1-4f55-9f98-06c18df75134"
      },
      "source": [
        "#Input Data\n",
        "jam=int(input(\"Masukan jam ?\"))\n",
        "menit=int(input(\"Masukan menit ?\"))\n",
        "\n",
        "#Proses Data Input menjadi jumlah menit\n",
        "hasil=menit+(jam*60)\n",
        "\n",
        "#Output hasil\n",
        "print(\"{} jam {} menit setara dengan {} menit\". format(jam,menit,hasil))\n"
      ],
      "execution_count": 1,
      "outputs": [
        {
          "output_type": "stream",
          "text": [
            "Masukan jam ?11\n",
            "Masukan menit ?7\n",
            "11 jam 7 menit setara dengan 667 menit\n"
          ],
          "name": "stdout"
        }
      ]
    },
    {
      "cell_type": "code",
      "metadata": {
        "colab": {
          "base_uri": "https://localhost:8080/"
        },
        "id": "Ock8UcCcE9oA",
        "outputId": "dd877386-0f4b-4ea5-e37e-577657691fcc"
      },
      "source": [
        "bil=int(input(\"Masukan jumlah detik ?\"))\n",
        "jum_detik=bil\n",
        "\n",
        "detik=bil%60\n",
        "bil /=60   #bil=bil/60\n",
        "\n",
        "menit=bil%60\n",
        "bil /=60   #bil=bil/60\n",
        "\n",
        "jam=bil%24\n",
        "hari =bil/24\n",
        "\n",
        "print(\"{} detik setara dengan {} hari, {} jam, {} menit, dan {} detik\".format(jum_detik,hari,jam,menit,detik))"
      ],
      "execution_count": 10,
      "outputs": [
        {
          "output_type": "stream",
          "text": [
            "Masukan jumlah detik ?189005\n",
            "189005 detik setara dengan 2.1875578703703704 hari, 4.50138888888889 jam, 30.083333333333485 menit, dan 5 detik\n"
          ],
          "name": "stdout"
        }
      ]
    },
    {
      "cell_type": "code",
      "metadata": {
        "colab": {
          "base_uri": "https://localhost:8080/"
        },
        "id": "BmG56DweIVWg",
        "outputId": "4cc524c1-2d69-4c4b-f7ba-254978e50d69"
      },
      "source": [
        "bil=int(input(\"Masukan jumlah detik ?\"))\n",
        "jum_detik=bil\n",
        "\n",
        "jam=jum_detik//3600\n",
        "jum_detik%=3600\n",
        "hari=jam//24\n",
        "jam%=24\n",
        "menit=jum_detik//60\n",
        "detik%=60\n",
        "\n",
        "print(\"{} detik setara dengan {} hari, {} jam, {} menit, dan {} detik\".format(bil,hari,jam,menit,detik))"
      ],
      "execution_count": 31,
      "outputs": [
        {
          "output_type": "stream",
          "text": [
            "Masukan jumlah detik ?1685400\n",
            "1685400 detik setara dengan 19 hari, 12 jam, 10 menit, dan 5 detik\n"
          ],
          "name": "stdout"
        }
      ]
    },
    {
      "cell_type": "code",
      "metadata": {
        "colab": {
          "base_uri": "https://localhost:8080/"
        },
        "id": "YSPGsKgzK7mW",
        "outputId": "11d11554-d032-4e17-c7c3-726a7a3321bb"
      },
      "source": [
        "benar=True\n",
        "while benar:\n",
        "  bil1=int(input(\"Masukan bilangan ke-1 ?\"))\n",
        "  bil2=int(input(\"Masukan bilangan ke-2 ?\"))\n",
        "  op=input(\"Masukan Operator ?\")\n",
        "  if op==\"+\":\n",
        "    hasil=bil1+bil2\n",
        "  elif op==\"-\" :\n",
        "    hasil=bil1-bil2\n",
        "  elif op==\"*\" :\n",
        "    hasil=bil1*bil2\n",
        "  elif op==\"/\" :\n",
        "    hasil=bil1/bil2\n",
        "  else:\n",
        "    benar=False\n",
        "\n",
        "  print(\"{}{}{}={}\".format(bil1,op,bil2,hasil))"
      ],
      "execution_count": 35,
      "outputs": [
        {
          "output_type": "stream",
          "text": [
            "Masukan bilangan ke-1 ?6\n",
            "Masukan bilangan ke-2 ?4\n",
            "Masukan Operator ?-\n",
            "6-4=2\n",
            "Masukan bilangan ke-1 ?54\n",
            "Masukan bilangan ke-2 ?42\n",
            "Masukan Operator ?/\n",
            "54/42=1.2857142857142858\n",
            "Masukan bilangan ke-1 ?2\n",
            "Masukan bilangan ke-2 ?3\n",
            "Masukan Operator ?1\n",
            "213=1.2857142857142858\n"
          ],
          "name": "stdout"
        }
      ]
    }
  ]
}